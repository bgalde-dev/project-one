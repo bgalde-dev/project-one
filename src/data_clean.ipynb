{
 "cells": [
  {
   "cell_type": "markdown",
   "metadata": {},
   "source": [
    "# Data access and cleaning\n",
    "Will access data files and apis, clean data, and present data to be analyzed"
   ]
  },
  {
   "cell_type": "code",
   "execution_count": 213,
   "metadata": {},
   "outputs": [],
   "source": [
    "# Import Dependencies\n",
    "import pandas as pd\n",
    "import matplotlib.pyplot as plt\n",
    "import numpy as np"
   ]
  },
  {
   "cell_type": "code",
   "execution_count": 214,
   "metadata": {
    "scrolled": true
   },
   "outputs": [
    {
     "data": {
      "text/html": [
       "<div>\n",
       "<style scoped>\n",
       "    .dataframe tbody tr th:only-of-type {\n",
       "        vertical-align: middle;\n",
       "    }\n",
       "\n",
       "    .dataframe tbody tr th {\n",
       "        vertical-align: top;\n",
       "    }\n",
       "\n",
       "    .dataframe thead th {\n",
       "        text-align: right;\n",
       "    }\n",
       "</style>\n",
       "<table border=\"1\" class=\"dataframe\">\n",
       "  <thead>\n",
       "    <tr style=\"text-align: right;\">\n",
       "      <th></th>\n",
       "      <th>Date.Rptd</th>\n",
       "      <th>DR.NO</th>\n",
       "      <th>DATE.OCC</th>\n",
       "      <th>TIME.OCC</th>\n",
       "      <th>AREA</th>\n",
       "      <th>AREA.NAME</th>\n",
       "      <th>RD</th>\n",
       "      <th>Crm.Cd</th>\n",
       "      <th>CrmCd.Desc</th>\n",
       "      <th>Status</th>\n",
       "      <th>Status.Desc</th>\n",
       "      <th>Latitude</th>\n",
       "      <th>Longitude</th>\n",
       "    </tr>\n",
       "  </thead>\n",
       "  <tbody>\n",
       "    <tr>\n",
       "      <th>0</th>\n",
       "      <td>1/1/2012</td>\n",
       "      <td>120100503</td>\n",
       "      <td>1/1/2012</td>\n",
       "      <td>105</td>\n",
       "      <td>1</td>\n",
       "      <td>Central</td>\n",
       "      <td>135</td>\n",
       "      <td>230</td>\n",
       "      <td>ASSAULT WITH DEADLY WEAPON</td>\n",
       "      <td>AA</td>\n",
       "      <td>Adult Arrest</td>\n",
       "      <td>34.0478</td>\n",
       "      <td>-118.2467</td>\n",
       "    </tr>\n",
       "    <tr>\n",
       "      <th>1</th>\n",
       "      <td>1/1/2012</td>\n",
       "      <td>120104016</td>\n",
       "      <td>1/1/2012</td>\n",
       "      <td>130</td>\n",
       "      <td>1</td>\n",
       "      <td>Central</td>\n",
       "      <td>182</td>\n",
       "      <td>624</td>\n",
       "      <td>BATTERY</td>\n",
       "      <td>IC</td>\n",
       "      <td>Invest Cont</td>\n",
       "      <td>34.0423</td>\n",
       "      <td>-118.2666</td>\n",
       "    </tr>\n",
       "    <tr>\n",
       "      <th>2</th>\n",
       "      <td>1/1/2012</td>\n",
       "      <td>120104021</td>\n",
       "      <td>1/1/2012</td>\n",
       "      <td>1045</td>\n",
       "      <td>1</td>\n",
       "      <td>Central</td>\n",
       "      <td>155</td>\n",
       "      <td>230</td>\n",
       "      <td>ASSAULT WITH DEADLY WEAPON</td>\n",
       "      <td>AA</td>\n",
       "      <td>Adult Arrest</td>\n",
       "      <td>34.0454</td>\n",
       "      <td>-118.2466</td>\n",
       "    </tr>\n",
       "    <tr>\n",
       "      <th>3</th>\n",
       "      <td>1/1/2012</td>\n",
       "      <td>120104022</td>\n",
       "      <td>1/1/2012</td>\n",
       "      <td>1045</td>\n",
       "      <td>1</td>\n",
       "      <td>Central</td>\n",
       "      <td>155</td>\n",
       "      <td>624</td>\n",
       "      <td>BATTERY</td>\n",
       "      <td>IC</td>\n",
       "      <td>Invest Cont</td>\n",
       "      <td>34.0454</td>\n",
       "      <td>-118.2466</td>\n",
       "    </tr>\n",
       "    <tr>\n",
       "      <th>4</th>\n",
       "      <td>1/1/2012</td>\n",
       "      <td>120104033</td>\n",
       "      <td>1/1/2012</td>\n",
       "      <td>1105</td>\n",
       "      <td>1</td>\n",
       "      <td>Central</td>\n",
       "      <td>153</td>\n",
       "      <td>624</td>\n",
       "      <td>BATTERY</td>\n",
       "      <td>IC</td>\n",
       "      <td>Invest Cont</td>\n",
       "      <td>34.0474</td>\n",
       "      <td>-118.2496</td>\n",
       "    </tr>\n",
       "  </tbody>\n",
       "</table>\n",
       "</div>"
      ],
      "text/plain": [
       "  Date.Rptd      DR.NO  DATE.OCC  TIME.OCC  AREA AREA.NAME   RD  Crm.Cd  \\\n",
       "0  1/1/2012  120100503  1/1/2012       105     1   Central  135     230   \n",
       "1  1/1/2012  120104016  1/1/2012       130     1   Central  182     624   \n",
       "2  1/1/2012  120104021  1/1/2012      1045     1   Central  155     230   \n",
       "3  1/1/2012  120104022  1/1/2012      1045     1   Central  155     624   \n",
       "4  1/1/2012  120104033  1/1/2012      1105     1   Central  153     624   \n",
       "\n",
       "                   CrmCd.Desc Status   Status.Desc  Latitude  Longitude  \n",
       "0  ASSAULT WITH DEADLY WEAPON     AA  Adult Arrest   34.0478  -118.2467  \n",
       "1                     BATTERY     IC   Invest Cont   34.0423  -118.2666  \n",
       "2  ASSAULT WITH DEADLY WEAPON     AA  Adult Arrest   34.0454  -118.2466  \n",
       "3                     BATTERY     IC   Invest Cont   34.0454  -118.2466  \n",
       "4                     BATTERY     IC   Invest Cont   34.0474  -118.2496  "
      ]
     },
     "execution_count": 214,
     "metadata": {},
     "output_type": "execute_result"
    }
   ],
   "source": [
    "# Load data files\n",
    "\n",
    "# Crime data\n",
    "crime_data_csv = \"../data/crime/LA_Crime_Data_2012_2013.csv\"\n",
    "crime_data_df = pd.read_csv(crime_data_csv)\n",
    "\n",
    "crime_data_df.head()"
   ]
  },
  {
   "cell_type": "code",
   "execution_count": 215,
   "metadata": {},
   "outputs": [
    {
     "data": {
      "text/html": [
       "<div>\n",
       "<style scoped>\n",
       "    .dataframe tbody tr th:only-of-type {\n",
       "        vertical-align: middle;\n",
       "    }\n",
       "\n",
       "    .dataframe tbody tr th {\n",
       "        vertical-align: top;\n",
       "    }\n",
       "\n",
       "    .dataframe thead th {\n",
       "        text-align: right;\n",
       "    }\n",
       "</style>\n",
       "<table border=\"1\" class=\"dataframe\">\n",
       "  <thead>\n",
       "    <tr style=\"text-align: right;\">\n",
       "      <th></th>\n",
       "      <th>Date Reported</th>\n",
       "      <th>Case Number</th>\n",
       "      <th>Date Occurred</th>\n",
       "      <th>Time Occurred</th>\n",
       "      <th>Area</th>\n",
       "      <th>Area Name</th>\n",
       "      <th>RD</th>\n",
       "      <th>Crime Code</th>\n",
       "      <th>Crime Description</th>\n",
       "      <th>Status</th>\n",
       "      <th>Status Description</th>\n",
       "      <th>Latitude</th>\n",
       "      <th>Longitude</th>\n",
       "    </tr>\n",
       "  </thead>\n",
       "  <tbody>\n",
       "    <tr>\n",
       "      <th>0</th>\n",
       "      <td>1/1/2012</td>\n",
       "      <td>120100503</td>\n",
       "      <td>1/1/2012</td>\n",
       "      <td>105</td>\n",
       "      <td>1</td>\n",
       "      <td>Central</td>\n",
       "      <td>135</td>\n",
       "      <td>230</td>\n",
       "      <td>ADW</td>\n",
       "      <td>AA</td>\n",
       "      <td>Adult Arrest</td>\n",
       "      <td>34.0478</td>\n",
       "      <td>-118.2467</td>\n",
       "    </tr>\n",
       "    <tr>\n",
       "      <th>1</th>\n",
       "      <td>1/1/2012</td>\n",
       "      <td>120104016</td>\n",
       "      <td>1/1/2012</td>\n",
       "      <td>130</td>\n",
       "      <td>1</td>\n",
       "      <td>Central</td>\n",
       "      <td>182</td>\n",
       "      <td>624</td>\n",
       "      <td>Battery</td>\n",
       "      <td>IC</td>\n",
       "      <td>Invest Cont</td>\n",
       "      <td>34.0423</td>\n",
       "      <td>-118.2666</td>\n",
       "    </tr>\n",
       "    <tr>\n",
       "      <th>2</th>\n",
       "      <td>1/1/2012</td>\n",
       "      <td>120104021</td>\n",
       "      <td>1/1/2012</td>\n",
       "      <td>1045</td>\n",
       "      <td>1</td>\n",
       "      <td>Central</td>\n",
       "      <td>155</td>\n",
       "      <td>230</td>\n",
       "      <td>ADW</td>\n",
       "      <td>AA</td>\n",
       "      <td>Adult Arrest</td>\n",
       "      <td>34.0454</td>\n",
       "      <td>-118.2466</td>\n",
       "    </tr>\n",
       "    <tr>\n",
       "      <th>3</th>\n",
       "      <td>1/1/2012</td>\n",
       "      <td>120104022</td>\n",
       "      <td>1/1/2012</td>\n",
       "      <td>1045</td>\n",
       "      <td>1</td>\n",
       "      <td>Central</td>\n",
       "      <td>155</td>\n",
       "      <td>624</td>\n",
       "      <td>Battery</td>\n",
       "      <td>IC</td>\n",
       "      <td>Invest Cont</td>\n",
       "      <td>34.0454</td>\n",
       "      <td>-118.2466</td>\n",
       "    </tr>\n",
       "    <tr>\n",
       "      <th>4</th>\n",
       "      <td>1/1/2012</td>\n",
       "      <td>120104033</td>\n",
       "      <td>1/1/2012</td>\n",
       "      <td>1105</td>\n",
       "      <td>1</td>\n",
       "      <td>Central</td>\n",
       "      <td>153</td>\n",
       "      <td>624</td>\n",
       "      <td>Battery</td>\n",
       "      <td>IC</td>\n",
       "      <td>Invest Cont</td>\n",
       "      <td>34.0474</td>\n",
       "      <td>-118.2496</td>\n",
       "    </tr>\n",
       "  </tbody>\n",
       "</table>\n",
       "</div>"
      ],
      "text/plain": [
       "  Date Reported  Case Number Date Occurred  Time Occurred  Area Area Name  \\\n",
       "0      1/1/2012    120100503      1/1/2012            105     1   Central   \n",
       "1      1/1/2012    120104016      1/1/2012            130     1   Central   \n",
       "2      1/1/2012    120104021      1/1/2012           1045     1   Central   \n",
       "3      1/1/2012    120104022      1/1/2012           1045     1   Central   \n",
       "4      1/1/2012    120104033      1/1/2012           1105     1   Central   \n",
       "\n",
       "    RD  Crime Code Crime Description Status Status Description  Latitude  \\\n",
       "0  135         230               ADW     AA       Adult Arrest   34.0478   \n",
       "1  182         624           Battery     IC        Invest Cont   34.0423   \n",
       "2  155         230               ADW     AA       Adult Arrest   34.0454   \n",
       "3  155         624           Battery     IC        Invest Cont   34.0454   \n",
       "4  153         624           Battery     IC        Invest Cont   34.0474   \n",
       "\n",
       "   Longitude  \n",
       "0  -118.2467  \n",
       "1  -118.2666  \n",
       "2  -118.2466  \n",
       "3  -118.2466  \n",
       "4  -118.2496  "
      ]
     },
     "execution_count": 215,
     "metadata": {},
     "output_type": "execute_result"
    }
   ],
   "source": [
    "renamed_crime_df = crime_data_df.rename(columns={\"Date.Rptd\":\"Date Reported\",\n",
    "                                                 \"DR.NO\":\"Case Number\",\n",
    "                                                 \"DATE.OCC\":\"Date Occurred\",\n",
    "                                                 \"TIME.OCC\":\"Time Occurred\",\n",
    "                                                 \"AREA\": \"Area\",\n",
    "                                                 \"AREA.NAME\":\"Area Name\",\n",
    "                                                 \"Crm.Cd\":\"Crime Code\",\n",
    "                                                 \"CrmCd.Desc\":\"Crime Description\",\n",
    "                                                 \"Status.Desc\":\"Status Description\"})\n",
    "\n",
    "data_fix = renamed_crime_df.replace({'ASSAULT WITH DEADLY WEAPON':'ADW', 'BATTERY':'Battery', 'THEFT':'Theft', 'VANDALISM':'Vandalism'})\n",
    "data_fix.head()"
   ]
  },
  {
   "cell_type": "code",
   "execution_count": 216,
   "metadata": {},
   "outputs": [
    {
     "data": {
      "image/png": "[encoded data removed]",
      "text/plain": [
       "<Figure size 432x288 with 1 Axes>"
      ]
     },
     "metadata": {
      "needs_background": "light"
     },
     "output_type": "display_data"
    }
   ],
   "source": [
    "crime_type_count = data_fix.groupby('Crime Description')['Crime Code'].count()\n",
    "crime_counts = crime_type_count.to_list()\n",
    "x_axis = crime_type_count.index.to_list()\n",
    "\n",
    "plt.bar(x_axis, crime_counts, color = 'skyblue',  alpha = 0.5, align = 'center')\n",
    "\n",
    "plt.xlim(-0.55, len(x_axis) - 0.45)\n",
    "plt.ylim(0, max(crime_counts) + 3000)\n",
    "\n",
    "plt.title(\"Number of Crimes per Crime Type in LA County from 2012-2013\")\n",
    "plt.xlabel(\"Crime Types\")\n",
    "plt.ylabel(\"Number of Crimes\")\n",
    "\n",
    "#output_image = f'Output_Data/Num_Crimes_Bar_2012_2013.png'\n",
    "#plt.tight_layout()\n",
    "#plt.savefig(output_image)\n",
    "\n",
    "plt.show()"
   ]
  },
  {
   "cell_type": "code",
   "execution_count": 217,
   "metadata": {},
   "outputs": [
    {
     "data": {
      "image/png": "[encoded data removed]",
      "text/plain": [
       "<Figure size 432x288 with 1 Axes>"
      ]
     },
     "metadata": {},
     "output_type": "display_data"
    }
   ],
   "source": [
    "colors = [\"hotpink\",\"green\", \"orange\", \"purple\"]\n",
    "plt.pie(crime_counts, labels=x_axis, colors=colors, autopct=\"%1.1f%%\")\n",
    "plt.title(\"Number of Crimes per Crime Type in LA County from 2012-2013\")\n",
    "\n",
    "#output_image = f'Output_Data/Num_Crimes_Pie_2012_2013.png'\n",
    "#plt.tight_layout()\n",
    "#plt.savefig(output_image)\n",
    "\n",
    "plt.show()"
   ]
  },
  {
   "cell_type": "code",
   "execution_count": 218,
   "metadata": {},
   "outputs": [],
   "source": [
    "year_occurred = []\n",
    "\n",
    "for crime in data_fix['Date Occurred']:\n",
    "    year = crime.split('/')\n",
    "    year_occurred.append(year[2])\n",
    "    \n",
    "data_fix['Year of Crime'] = year_occurred\n",
    "crimes_per_year = data_fix.groupby('Year of Crime')['Crime Description'].count()\n",
    "crime_counts_per_year = crimes_per_year.to_list()"
   ]
  },
  {
   "cell_type": "code",
   "execution_count": 221,
   "metadata": {},
   "outputs": [
    {
     "data": {
      "image/png": "[encoded data removed]",
      "text/plain": [
       "<Figure size 432x288 with 1 Axes>"
      ]
     },
     "metadata": {
      "needs_background": "light"
     },
     "output_type": "display_data"
    }
   ],
   "source": [
    "crime_types_counts_per_year = data_fix.groupby(['Crime Description', 'Year of Crime'])['Crime Code'].count()\n",
    "\n",
    "colors = ['firebrick', 'goldenrod']\n",
    "labels = ['ADW', 'Battery', 'Theft', 'Vandalism']\n",
    "\n",
    "crime_types_counts_per_year.unstack().plot.bar(rot = 0, color = colors)\n",
    "\n",
    "plt.title('Count of Crime Types 2012 and 2013 Comparison')\n",
    "plt.xlabel('Crime Types')\n",
    "plt.ylabel('Count')\n",
    "\n",
    "#output_image = f'Output_Data/Num_Crimes_2012_2013_per_year.png'\n",
    "#plt.tight_layout()\n",
    "#plt.savefig(output_image)\n",
    "\n",
    "plt.show()"
   ]
  },
  {
   "cell_type": "code",
   "execution_count": 222,
   "metadata": {},
   "outputs": [
    {
     "data": {
      "text/html": [
       "<div>\n",
       "<style scoped>\n",
       "    .dataframe tbody tr th:only-of-type {\n",
       "        vertical-align: middle;\n",
       "    }\n",
       "\n",
       "    .dataframe tbody tr th {\n",
       "        vertical-align: top;\n",
       "    }\n",
       "\n",
       "    .dataframe thead th {\n",
       "        text-align: right;\n",
       "    }\n",
       "</style>\n",
       "<table border=\"1\" class=\"dataframe\">\n",
       "  <thead>\n",
       "    <tr style=\"text-align: right;\">\n",
       "      <th></th>\n",
       "      <th>Year</th>\n",
       "      <th>State</th>\n",
       "      <th>CoC Number</th>\n",
       "      <th>CoC Name</th>\n",
       "      <th>Measures</th>\n",
       "      <th>Count</th>\n",
       "    </tr>\n",
       "  </thead>\n",
       "  <tbody>\n",
       "    <tr>\n",
       "      <th>28561</th>\n",
       "      <td>1/1/2012</td>\n",
       "      <td>CA</td>\n",
       "      <td>CA-600</td>\n",
       "      <td>Los Angeles City &amp; County CoC</td>\n",
       "      <td>Total Homeless</td>\n",
       "      <td>31553</td>\n",
       "    </tr>\n",
       "    <tr>\n",
       "      <th>36919</th>\n",
       "      <td>1/1/2013</td>\n",
       "      <td>CA</td>\n",
       "      <td>CA-600</td>\n",
       "      <td>Los Angeles City &amp; County CoC</td>\n",
       "      <td>Total Homeless</td>\n",
       "      <td>35524</td>\n",
       "    </tr>\n",
       "  </tbody>\n",
       "</table>\n",
       "</div>"
      ],
      "text/plain": [
       "           Year State CoC Number                       CoC Name  \\\n",
       "28561  1/1/2012    CA     CA-600  Los Angeles City & County CoC   \n",
       "36919  1/1/2013    CA     CA-600  Los Angeles City & County CoC   \n",
       "\n",
       "             Measures  Count  \n",
       "28561  Total Homeless  31553  \n",
       "36919  Total Homeless  35524  "
      ]
     },
     "execution_count": 222,
     "metadata": {},
     "output_type": "execute_result"
    }
   ],
   "source": [
    "# Homelessness Data\n",
    "homeless_data_csv = \"../data/crime/2007-2016-Homelessness-USA.csv\"\n",
    "homeless_data_df = pd.read_csv(homeless_data_csv)\n",
    "\n",
    "# Grabbing Total Homeless Count for 2012 and 2013\n",
    "homeless_counts = homeless_data_df.loc[((homeless_data_df['Measures'] == \"Total Homeless\") & (homeless_data_df['CoC Name'] == \"Los Angeles City & County CoC\") & (homeless_data_df['State'] == 'CA')) & ((homeless_data_df['Year'] == \"1/1/2012\") | (homeless_data_df['Year'] == \"1/1/2013\"))]\n",
    "homeless_counts_fixed = homeless_counts.replace(',','',regex=True)\n",
    "homeless_counts_fixed"
   ]
  },
  {
   "cell_type": "code",
   "execution_count": 224,
   "metadata": {},
   "outputs": [
    {
     "data": {
      "image/png": "[encoded data removed]",
      "text/plain": [
       "<Figure size 432x288 with 1 Axes>"
      ]
     },
     "metadata": {
      "needs_background": "light"
     },
     "output_type": "display_data"
    }
   ],
   "source": [
    "barWidth = 0.45\n",
    "\n",
    "r1 = np.arange(len(crime_counts_per_year))\n",
    "r2 = [x + barWidth for x in r1]\n",
    "\n",
    "y_axis_crimes = crime_counts_per_year\n",
    "y_axis_homeless = homeless_counts_fixed['Count'].astype(int).to_list()\n",
    "\n",
    "plt.bar(r1, y_axis_crimes, color = 'red', alpha = 0.75, width = barWidth, edgecolor = 'white', label = 'crimes')\n",
    "plt.bar(r2, y_axis_homeless, color = 'blue', alpha = 0.75, width = barWidth, edgecolor = 'white', label = 'homeless')\n",
    "\n",
    "plt.title('Count of Crimes vs Count of Homeless Between 2012 and 2013')\n",
    "plt.xlabel('Year')\n",
    "plt.ylabel('Count')\n",
    "plt.xticks([r + (barWidth/2) for r in range(len(crime_counts_per_year))], ['2012', '2013'])\n",
    "\n",
    "plt.legend(loc='upper right', title='Count Type')\n",
    "\n",
    "#output_image = f'Output_Data/Crime_Homeless_Compare_2012_2013.png'\n",
    "#plt.tight_layout()\n",
    "#plt.savefig(output_image)\n",
    "\n",
    "plt.show()"
   ]
  },
  {
   "cell_type": "code",
   "execution_count": null,
   "metadata": {},
   "outputs": [],
   "source": []
  }
 ],
 "metadata": {
  "kernelspec": {
   "display_name": "Python 3",
   "language": "python",
   "name": "python3"
  },
  "language_info": {
   "codemirror_mode": {
    "name": "ipython",
    "version": 3
   },
   "file_extension": ".py",
   "mimetype": "text/x-python",
   "name": "python",
   "nbconvert_exporter": "python",
   "pygments_lexer": "ipython3",
   "version": "3.8.5"
  }
 },
 "nbformat": 4,
 "nbformat_minor": 4
}
