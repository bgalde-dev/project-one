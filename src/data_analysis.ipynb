{
 "cells": [
  {
   "cell_type": "markdown",
   "metadata": {},
   "source": [
    "# Data Analysis\n",
    "Will analyize and present data for visualization"
   ]
  },
  {
   "cell_type": "code",
   "execution_count": null,
   "metadata": {},
   "outputs": [],
   "source": [
    "%matplotlib notebook\n",
    "\n",
    "# Import Dependencies\n",
    "import pandas as pd\n",
    "import numpy as np\n",
    "# import sklearn.datasets as dta\n",
    "import scipy.stats as st\n",
    "import matplotlib.pyplot as plt\n",
    "import matplotlib.ticker as mtick\n",
    "import datautil as du\n",
    "import gmaps\n",
    "\n",
    "# Have an api_keys.py in your local folder, an define g_key as the google-maps API key\n",
    "from api_keys import g_key"
   ]
  },
  {
   "cell_type": "code",
   "execution_count": null,
   "metadata": {},
   "outputs": [],
   "source": [
    "# Load and clean data\n",
    "du.clean_data()"
   ]
  },
  {
   "cell_type": "markdown",
   "metadata": {},
   "source": [
    "### Crime distribution over the city LA"
   ]
  },
  {
   "cell_type": "code",
   "execution_count": null,
   "metadata": {},
   "outputs": [],
   "source": [
    "# Configure gmaps with the api key\n",
    "gmaps.configure(api_key=g_key)"
   ]
  },
  {
   "cell_type": "code",
   "execution_count": null,
   "metadata": {},
   "outputs": [],
   "source": [
    "# Collect the weights per lat-long for chosen crime descriptions\n",
    "crime_desc_select = [\"Vandalism\", \"Theft\", \"ADW\", \"Battery\"]\n",
    "lat_lng_df_ar = []\n",
    "# Collect crime desc data\n",
    "for lix in range(len(crime_desc_select)):\n",
    "    crime_desc = crime_desc_select[lix]\n",
    "    lat_lng_df = du.collect_lat_lng_dist(crime_desc)\n",
    "    lat_lng_df_ar.append(lat_lng_df)\n",
    "    "
   ]
  },
  {
   "cell_type": "code",
   "execution_count": null,
   "metadata": {},
   "outputs": [],
   "source": [
    "# Draw the crime distribiton per location\n",
    "fig = gmaps.figure(center=(34.02,-118.25), zoom_level=11)\n",
    "\n",
    "colors = [(0,255,0,1), (0,0,255,1), (255,0,0,1), (0,190,190,1)]\n",
    "weight_factor = [1.2,1.3,1.3,1.5]\n",
    "\n",
    "for lix in range(len(crime_desc_select)):\n",
    "    color = colors[lix]\n",
    "    lat_lng_df = lat_lng_df_ar[lix]\n",
    "\n",
    "    heatmap_layer = gmaps.WeightedHeatmap(locations=lat_lng_df[[\"Latitude\", \"Longitude\"]],\n",
    "                                          weights=(lat_lng_df[\"Weights\"].values)**weight_factor[lix],\n",
    "                                          point_radius=25, dissipating=True,\n",
    "                                          max_intensity = 1,\n",
    "                                          gradient=[(255,255,255,0.7/4),\n",
    "                                                      (255,255,255,1/4),\n",
    "                                                       color])\n",
    "    fig.add_layer(heatmap_layer)\n",
    "fig"
   ]
  },
  {
   "cell_type": "code",
   "execution_count": null,
   "metadata": {},
   "outputs": [],
   "source": [
    "# Grouping data by the crime description and counting to get the total amount each crime type\n",
    "# had been committed over the five years.  Putting those counts into a list for plotting as y-axis.\n",
    "# Also putting the index (Crime Descriptions) in a list as the x-axis for plotting.\n",
    "\n",
    "crime_type_count = du.clean_crime_data_df.groupby('Crime Description')['Crime Code'].count()\n",
    "crime_counts = crime_type_count.to_list()\n",
    "x_axis = crime_type_count.index.to_list()\n",
    "\n",
    "# Plotting bar graph of the number of crimes committed per crime type over the five year span.\n",
    "# Setting limits for cleaner presentation.\n",
    "\n",
    "plt.bar(x_axis, crime_counts, color = 'skyblue',  alpha = 0.5, align = 'center')\n",
    "\n",
    "plt.xlim(-0.55, len(x_axis) - 0.45)\n",
    "plt.ylim(0, max(crime_counts) + 3000)\n",
    "\n",
    "# Adding plot titles and axis labels.\n",
    "\n",
    "plt.title(\"Number of Crimes per Crime Type in LA County from 2012-2016\")\n",
    "plt.xlabel(\"Crime Types\")\n",
    "plt.ylabel(\"Number of Crimes\")\n",
    "\n",
    "# Setting output location and name for png of plot.\n",
    "\n",
    "output_image = f'../output/Num_Crimes_Bar_2012_2016.png'\n",
    "plt.tight_layout()\n",
    "plt.savefig(output_image)\n",
    "\n",
    "plt.show()"
   ]
  },
  {
   "cell_type": "code",
   "execution_count": null,
   "metadata": {},
   "outputs": [],
   "source": [
    "# Setting arbitrary colors and plotting a pie chart of the same data showing the % amount of each crime type committed.\n",
    "\n",
    "colors = [\"hotpink\", \"green\", \"orange\", \"purple\"]\n",
    "plt.pie(crime_counts, labels = x_axis, colors = colors, autopct = \"%1.1f%%\", shadow = True, startangle = 90)\n",
    "plt.title(\"Number of Crimes per Crime Type in LA County from 2012-2016\")\n",
    "\n",
    "# Setting output location and name for png of plot.\n",
    "\n",
    "output_image = f'../output/Num_Crimes_Pie_2012_2016.png'\n",
    "plt.tight_layout()\n",
    "plt.savefig(output_image)\n",
    "\n",
    "plt.show()"
   ]
  },
  {
   "cell_type": "code",
   "execution_count": null,
   "metadata": {},
   "outputs": [],
   "source": [
    "# Grouped by the crime type and year crime occurred to get a count of the amount of times each crime was committed per year.\n",
    "\n",
    "crime_types_counts_per_year = du.clean_crime_data_df.groupby(['Crime Description', 'Year of Crime'])['Crime Code'].count()\n",
    "\n",
    "# Set colors for bars in the mutli-bar plot and unstacked the data in the series to create bar plot.\n",
    "\n",
    "colors = ['firebrick', 'goldenrod', 'blue', 'green', 'purple']\n",
    "\n",
    "crime_types_counts_per_year.unstack().plot.bar(rot = 0, color = colors, width = 0.75)\n",
    "\n",
    "# Adding plot titles and axis labels.\n",
    "\n",
    "plt.title('Count of Crime Types per Year in LA County 2012 thru 2016 Comparison')\n",
    "plt.xlabel('Crime Types')\n",
    "plt.ylabel('Count')\n",
    "plt.legend(title = 'Year', frameon = False)\n",
    "\n",
    "# Setting output location and name for png of plot.\n",
    "\n",
    "output_image = f'../output/Num_Crimes_2012_2016_per_year.png'\n",
    "plt.tight_layout()\n",
    "plt.savefig(output_image)\n",
    "\n",
    "plt.show()"
   ]
  },
  {
   "cell_type": "code",
   "execution_count": null,
   "metadata": {},
   "outputs": [],
   "source": [
    "# Grouped data by the year the crime occurred and counted how many total crimes were committed each year\n",
    "# which was then put into a list for plotting.\n",
    "\n",
    "crimes_per_year = du.clean_crime_data_df.groupby('Year of Crime')['Crime Description'].count()\n",
    "crime_counts_per_year = crimes_per_year.to_list()\n",
    "homeless_counts_fixed = du.homeless_counts()\n",
    "\n",
    "# Width of bars set for cleaner plot presentation, created a list of the length of crime count list (number of years)\n",
    "# to be set as the x_axis for the crime count data.  Calculation made to place second set of x-axis locations for homeless\n",
    "# counts so multiple bars can be placed adjacent to one another in one plot.\n",
    "\n",
    "barWidth = 0.35\n",
    "\n",
    "r1 = np.arange(len(crime_counts_per_year))\n",
    "r2 = [x + barWidth for x in r1]\n",
    "\n",
    "# y-axes set as the list of the crime counts for one and the other the pulled homeless counts from earlier dataframe.\n",
    "\n",
    "y_axis_crimes = crime_counts_per_year\n",
    "y_axis_homeless = homeless_counts_fixed['Count'].astype(int).to_list()\n",
    "\n",
    "# Plotting both bars using the set x-axes and y-axes to make a mutli-bar plot to see\n",
    "# potential correlation between crimes and homelessness.\n",
    "\n",
    "plt.bar(r1, y_axis_crimes, color = 'red', alpha = 0.75, width = barWidth, edgecolor = 'white', label = 'crimes')\n",
    "plt.bar(r2, y_axis_homeless, color = 'blue', alpha = 0.75, width = barWidth, edgecolor = 'white', label = 'homeless')\n",
    "\n",
    "# Created a title, legend and axes labels for multi-bar plot.  Labeled the x tickmarks as the years and\n",
    "# set their location in between the two bars for each year.\n",
    "\n",
    "plt.title('Count of Crimes vs Count of Homeless in LA County Between 2012 and 2016')\n",
    "plt.xlabel('Year')\n",
    "plt.ylabel('Count')\n",
    "plt.xticks([r + (barWidth/2) for r in range(len(crime_counts_per_year))], ['2012', '2013', '2014', '2015', '2016'])\n",
    "plt.legend(loc='upper right', title='Count Type', frameon = False)\n",
    "\n",
    "# Setting output location and name for png of plot. \n",
    "\n",
    "output_image = f'../output/Crime_Homeless_Compare_Bar_2012_2016.png'\n",
    "plt.tight_layout()\n",
    "plt.savefig(output_image)\n",
    "\n",
    "plt.show()"
   ]
  },
  {
   "cell_type": "code",
   "execution_count": null,
   "metadata": {},
   "outputs": [],
   "source": [
    "# Setting x axis to be the years, plotting two lines to see the potential correlation in a different way.\n",
    "x_axis_line = ['2012', '2013', '2014', '2015', '2016']\n",
    "\n",
    "plt.plot(x_axis_line, y_axis_crimes, marker = 'o', markerfacecolor = 'red', markersize = 12, color = 'red', linewidth = 4, label = 'crimes')\n",
    "plt.plot(x_axis_line, y_axis_homeless, marker = 'd', markerfacecolor = 'blue', markersize = 12, color = 'blue', linewidth = 4, label = 'homeless')\n",
    "\n",
    "# Created a title, legend, and axes labels.\n",
    "plt.title('Count of Crimes vs Count of Homeless in LA County Between 2012 and 2016')\n",
    "plt.xlabel('Year')\n",
    "plt.ylabel('Count')\n",
    "plt.legend(loc = 'center left', title = 'Count Type', frameon = False, ncol = 2)\n",
    "plt.grid()\n",
    "\n",
    "# Setting output location and name for png of plot.\n",
    "output_image = f'../output/Crime_Homeless_Compare_Line_2012_2016.png'\n",
    "plt.tight_layout()\n",
    "plt.savefig(output_image)\n",
    "\n",
    "plt.show()"
   ]
  },
  {
   "cell_type": "code",
   "execution_count": null,
   "metadata": {},
   "outputs": [],
   "source": [
    "# Histogram of the number of crimes over the day for the time period of 2012-2016\n",
    "plt.hist(du.clean_crime_data_df['Time Occurred'], bins=24)\n",
    "plt.title('Histogram of Crimes During Time Blocks of the day in LA County Between 2012 and 2016')\n",
    "plt.ylabel('Number of Crimes')\n",
    "plt.xlabel('Time Block (1 hour)')\n",
    "\n",
    "# Setting output location and name for png of plot.\n",
    "output_image = f'../output/Crime_Hist_Hourly_2012_2016.png'\n",
    "plt.tight_layout()\n",
    "plt.savefig(output_image)\n",
    "\n",
    "plt.show()"
   ]
  },
  {
   "cell_type": "code",
   "execution_count": null,
   "metadata": {},
   "outputs": [],
   "source": [
    "# Histogram of the number of crimes over the day for the time period of 2012-2016\n",
    "plt.hist(du.clean_crime_data_df.loc[du.clean_crime_data_df['Crime Description'] == 'ADW']['Time Occurred'], bins=24)\n",
    "plt.title('Histogram of ADW Crimes During Time Blocks of the day in LA County Between 2012 and 2016')\n",
    "plt.ylabel('Number of Crimes')\n",
    "plt.xlabel('Time Block (1 hour)')\n",
    "\n",
    "# Setting output location and name for png of plot.\n",
    "output_image = f'../output/Crime_Hist_ADW_2012_2016.png'\n",
    "plt.tight_layout()\n",
    "plt.savefig(output_image)\n",
    "\n",
    "plt.show()"
   ]
  },
  {
   "cell_type": "code",
   "execution_count": null,
   "metadata": {},
   "outputs": [],
   "source": [
    "# Histogram of the number of crimes over the day for the time period of 2012-2016\n",
    "plt.hist(du.clean_crime_data_df.loc[du.clean_crime_data_df['Crime Description'] == 'Theft']['Time Occurred'], bins=24)\n",
    "plt.title('Histogram of Theft Crimes During Time Blocks of the day in LA County Between 2012 and 2016')\n",
    "plt.ylabel('Number of Crimes')\n",
    "plt.xlabel('Time Block (1 hour)')\n",
    "\n",
    "# Setting output location and name for png of plot.\n",
    "output_image = f'../output/Crime_Hist_Theft_2012_2016.png'\n",
    "plt.tight_layout()\n",
    "plt.savefig(output_image)\n",
    "\n",
    "plt.show()"
   ]
  },
  {
   "cell_type": "code",
   "execution_count": null,
   "metadata": {},
   "outputs": [],
   "source": [
    "# Histogram of the number of crimes over the day for the time period of 2012-2016\n",
    "plt.hist(du.clean_crime_data_df.loc[du.clean_crime_data_df['Crime Description'] == 'Battery']['Time Occurred'], bins=24)\n",
    "plt.title('Histogram of Battery Crimes During Time Blocks of the day in LA County Between 2012 and 2016')\n",
    "plt.ylabel('Number of Crimes')\n",
    "plt.xlabel('Time Block (1 hour)')\n",
    "\n",
    "# Setting output location and name for png of plot.\n",
    "output_image = f'../output/Crime_Hist_Battery_2012_2016.png'\n",
    "plt.tight_layout()\n",
    "plt.savefig(output_image)\n",
    "\n",
    "plt.show()"
   ]
  },
  {
   "cell_type": "code",
   "execution_count": null,
   "metadata": {},
   "outputs": [],
   "source": [
    "# Histogram of the number of crimes over the day for the time period of 2012-2016\n",
    "plt.hist(du.clean_crime_data_df.loc[du.clean_crime_data_df['Crime Description'] == 'Vandalism']['Time Occurred'], bins=24)\n",
    "plt.title('Histogram of Vandalism Crimes During Time Blocks of the day in LA County Between 2012 and 2016')\n",
    "plt.ylabel('Number of Crimes')\n",
    "plt.xlabel('Time Block (1 hour)')\n",
    "\n",
    "# Setting output location and name for png of plot.\n",
    "output_image = f'../output/Crime_Hist_Vandalism_2012_2016.png'\n",
    "plt.tight_layout()\n",
    "plt.savefig(output_image)\n",
    "\n",
    "plt.show()"
   ]
  },
  {
   "cell_type": "code",
   "execution_count": null,
   "metadata": {},
   "outputs": [],
   "source": []
  }
 ],
 "metadata": {
  "kernelspec": {
   "display_name": "Python 3",
   "language": "python",
   "name": "python3"
  },
  "language_info": {
   "codemirror_mode": {
    "name": "ipython",
    "version": 3
   },
   "file_extension": ".py",
   "mimetype": "text/x-python",
   "name": "python",
   "nbconvert_exporter": "python",
   "pygments_lexer": "ipython3",
   "version": "3.8.5"
  }
 },
 "nbformat": 4,
 "nbformat_minor": 4
}
