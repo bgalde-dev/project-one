{
 "cells": [
  {
   "cell_type": "markdown",
   "metadata": {},
   "source": [
    "# Location-based analysis of the crimes in Los-Angeles\n",
    "### (Note): Calling for google-maps API, so have your own API under api_keys.py"
   ]
  },
  {
   "cell_type": "code",
   "execution_count": 1,
   "metadata": {},
   "outputs": [],
   "source": [
    "%matplotlib notebook\n",
    "\n",
    "# Dependencies\n",
    "import pandas as pd\n",
    "import gmaps\n",
    "import numpy as np\n",
    "\n",
    "from matplotlib import pyplot as plt\n",
    "\n",
    "from api_keys import g_key"
   ]
  },
  {
   "cell_type": "code",
   "execution_count": 4,
   "metadata": {},
   "outputs": [
    {
     "data": {
      "text/html": [
       "<div>\n",
       "<style scoped>\n",
       "    .dataframe tbody tr th:only-of-type {\n",
       "        vertical-align: middle;\n",
       "    }\n",
       "\n",
       "    .dataframe tbody tr th {\n",
       "        vertical-align: top;\n",
       "    }\n",
       "\n",
       "    .dataframe thead th {\n",
       "        text-align: right;\n",
       "    }\n",
       "</style>\n",
       "<table border=\"1\" class=\"dataframe\">\n",
       "  <thead>\n",
       "    <tr style=\"text-align: right;\">\n",
       "      <th></th>\n",
       "      <th>Date.Rptd</th>\n",
       "      <th>DR.NO</th>\n",
       "      <th>DATE.OCC</th>\n",
       "      <th>TIME.OCC</th>\n",
       "      <th>AREA</th>\n",
       "      <th>AREA.NAME</th>\n",
       "      <th>RD</th>\n",
       "      <th>Crm.Cd</th>\n",
       "      <th>CrmCd.Desc</th>\n",
       "      <th>Status</th>\n",
       "      <th>Status.Desc</th>\n",
       "      <th>Latitude</th>\n",
       "      <th>Longitude</th>\n",
       "    </tr>\n",
       "  </thead>\n",
       "  <tbody>\n",
       "    <tr>\n",
       "      <th>0</th>\n",
       "      <td>6/29/2014</td>\n",
       "      <td>141611067</td>\n",
       "      <td>7/12/2014</td>\n",
       "      <td>1</td>\n",
       "      <td>16</td>\n",
       "      <td>Foothill</td>\n",
       "      <td>1684</td>\n",
       "      <td>121</td>\n",
       "      <td>RAPE, FORCIBLE</td>\n",
       "      <td>IC</td>\n",
       "      <td>Invest Cont</td>\n",
       "      <td>34.2103</td>\n",
       "      <td>-118.3954</td>\n",
       "    </tr>\n",
       "    <tr>\n",
       "      <th>1</th>\n",
       "      <td>3/13/2014</td>\n",
       "      <td>141315628</td>\n",
       "      <td>7/31/2014</td>\n",
       "      <td>1</td>\n",
       "      <td>13</td>\n",
       "      <td>Newton</td>\n",
       "      <td>1321</td>\n",
       "      <td>946</td>\n",
       "      <td>OTHER MISCELLANEOUS CRIME</td>\n",
       "      <td>IC</td>\n",
       "      <td>Invest Cont</td>\n",
       "      <td>34.0320</td>\n",
       "      <td>-118.2667</td>\n",
       "    </tr>\n",
       "    <tr>\n",
       "      <th>2</th>\n",
       "      <td>5/15/2014</td>\n",
       "      <td>141918556</td>\n",
       "      <td>9/8/2014</td>\n",
       "      <td>1</td>\n",
       "      <td>19</td>\n",
       "      <td>Mission</td>\n",
       "      <td>1967</td>\n",
       "      <td>668</td>\n",
       "      <td>EMBEZZLEMENT, GRAND THEFT ($950.01 &amp; OVER)</td>\n",
       "      <td>IC</td>\n",
       "      <td>Invest Cont</td>\n",
       "      <td>34.2330</td>\n",
       "      <td>-118.4386</td>\n",
       "    </tr>\n",
       "    <tr>\n",
       "      <th>3</th>\n",
       "      <td>12/31/2012</td>\n",
       "      <td>121228703</td>\n",
       "      <td>12/31/2012</td>\n",
       "      <td>1</td>\n",
       "      <td>12</td>\n",
       "      <td>77th Street</td>\n",
       "      <td>1249</td>\n",
       "      <td>510</td>\n",
       "      <td>VEHICLE - STOLEN</td>\n",
       "      <td>IC</td>\n",
       "      <td>Invest Cont</td>\n",
       "      <td>33.9823</td>\n",
       "      <td>-118.2841</td>\n",
       "    </tr>\n",
       "    <tr>\n",
       "      <th>4</th>\n",
       "      <td>1/11/2013</td>\n",
       "      <td>130204589</td>\n",
       "      <td>12/31/2012</td>\n",
       "      <td>1</td>\n",
       "      <td>2</td>\n",
       "      <td>Rampart</td>\n",
       "      <td>204</td>\n",
       "      <td>740</td>\n",
       "      <td>VANDALISM</td>\n",
       "      <td>AO</td>\n",
       "      <td>Adult Other</td>\n",
       "      <td>34.0787</td>\n",
       "      <td>-118.2844</td>\n",
       "    </tr>\n",
       "    <tr>\n",
       "      <th>...</th>\n",
       "      <td>...</td>\n",
       "      <td>...</td>\n",
       "      <td>...</td>\n",
       "      <td>...</td>\n",
       "      <td>...</td>\n",
       "      <td>...</td>\n",
       "      <td>...</td>\n",
       "      <td>...</td>\n",
       "      <td>...</td>\n",
       "      <td>...</td>\n",
       "      <td>...</td>\n",
       "      <td>...</td>\n",
       "      <td>...</td>\n",
       "    </tr>\n",
       "    <tr>\n",
       "      <th>881509</th>\n",
       "      <td>4/3/2016</td>\n",
       "      <td>161708321</td>\n",
       "      <td>4/2/2016</td>\n",
       "      <td>2359</td>\n",
       "      <td>17</td>\n",
       "      <td>Devonshire</td>\n",
       "      <td>1747</td>\n",
       "      <td>330</td>\n",
       "      <td>BURGLARY FROM VEHICLE</td>\n",
       "      <td>IC</td>\n",
       "      <td>Invest Cont</td>\n",
       "      <td>34.2648</td>\n",
       "      <td>-118.5001</td>\n",
       "    </tr>\n",
       "    <tr>\n",
       "      <th>881510</th>\n",
       "      <td>9/27/2016</td>\n",
       "      <td>162017370</td>\n",
       "      <td>9/26/2016</td>\n",
       "      <td>2359</td>\n",
       "      <td>20</td>\n",
       "      <td>Olympic</td>\n",
       "      <td>2027</td>\n",
       "      <td>740</td>\n",
       "      <td>VANDALISM</td>\n",
       "      <td>AA</td>\n",
       "      <td>Adult Arrest</td>\n",
       "      <td>34.0654</td>\n",
       "      <td>-118.2992</td>\n",
       "    </tr>\n",
       "    <tr>\n",
       "      <th>881511</th>\n",
       "      <td>1/10/2016</td>\n",
       "      <td>161504459</td>\n",
       "      <td>1/9/2016</td>\n",
       "      <td>2359</td>\n",
       "      <td>15</td>\n",
       "      <td>N Hollywood</td>\n",
       "      <td>1596</td>\n",
       "      <td>330</td>\n",
       "      <td>BURGLARY FROM VEHICLE</td>\n",
       "      <td>IC</td>\n",
       "      <td>Invest Cont</td>\n",
       "      <td>34.1385</td>\n",
       "      <td>-118.368</td>\n",
       "    </tr>\n",
       "    <tr>\n",
       "      <th>881512</th>\n",
       "      <td>7/1/2016</td>\n",
       "      <td>162112552</td>\n",
       "      <td>6/30/2016</td>\n",
       "      <td>2359</td>\n",
       "      <td>21</td>\n",
       "      <td>Topanga</td>\n",
       "      <td>2139</td>\n",
       "      <td>310</td>\n",
       "      <td>BURGLARY</td>\n",
       "      <td>IC</td>\n",
       "      <td>Invest Cont</td>\n",
       "      <td>34.2010</td>\n",
       "      <td>-118.5623</td>\n",
       "    </tr>\n",
       "    <tr>\n",
       "      <th>881513</th>\n",
       "      <td>5/23/2016</td>\n",
       "      <td>162011092</td>\n",
       "      <td>5/15/2016</td>\n",
       "      <td>2359</td>\n",
       "      <td>20</td>\n",
       "      <td>Olympic</td>\n",
       "      <td>2021</td>\n",
       "      <td>330</td>\n",
       "      <td>BURGLARY FROM VEHICLE</td>\n",
       "      <td>IC</td>\n",
       "      <td>Invest Cont</td>\n",
       "      <td>34.0690</td>\n",
       "      <td>-118.3154</td>\n",
       "    </tr>\n",
       "  </tbody>\n",
       "</table>\n",
       "<p>881514 rows × 13 columns</p>\n",
       "</div>"
      ],
      "text/plain": [
       "         Date.Rptd      DR.NO    DATE.OCC  TIME.OCC  AREA    AREA.NAME    RD  \\\n",
       "0        6/29/2014  141611067   7/12/2014         1    16     Foothill  1684   \n",
       "1        3/13/2014  141315628   7/31/2014         1    13       Newton  1321   \n",
       "2        5/15/2014  141918556    9/8/2014         1    19      Mission  1967   \n",
       "3       12/31/2012  121228703  12/31/2012         1    12  77th Street  1249   \n",
       "4        1/11/2013  130204589  12/31/2012         1     2      Rampart   204   \n",
       "...            ...        ...         ...       ...   ...          ...   ...   \n",
       "881509    4/3/2016  161708321    4/2/2016      2359    17   Devonshire  1747   \n",
       "881510   9/27/2016  162017370   9/26/2016      2359    20      Olympic  2027   \n",
       "881511   1/10/2016  161504459    1/9/2016      2359    15  N Hollywood  1596   \n",
       "881512    7/1/2016  162112552   6/30/2016      2359    21      Topanga  2139   \n",
       "881513   5/23/2016  162011092   5/15/2016      2359    20      Olympic  2021   \n",
       "\n",
       "        Crm.Cd                                  CrmCd.Desc Status  \\\n",
       "0          121                              RAPE, FORCIBLE     IC   \n",
       "1          946                   OTHER MISCELLANEOUS CRIME     IC   \n",
       "2          668  EMBEZZLEMENT, GRAND THEFT ($950.01 & OVER)     IC   \n",
       "3          510                            VEHICLE - STOLEN     IC   \n",
       "4          740                                   VANDALISM     AO   \n",
       "...        ...                                         ...    ...   \n",
       "881509     330                       BURGLARY FROM VEHICLE     IC   \n",
       "881510     740                                   VANDALISM     AA   \n",
       "881511     330                       BURGLARY FROM VEHICLE     IC   \n",
       "881512     310                                    BURGLARY     IC   \n",
       "881513     330                       BURGLARY FROM VEHICLE     IC   \n",
       "\n",
       "         Status.Desc  Latitude  Longitude  \n",
       "0        Invest Cont   34.2103  -118.3954  \n",
       "1        Invest Cont   34.0320  -118.2667  \n",
       "2        Invest Cont   34.2330  -118.4386  \n",
       "3        Invest Cont   33.9823  -118.2841  \n",
       "4        Adult Other   34.0787  -118.2844  \n",
       "...              ...       ...        ...  \n",
       "881509   Invest Cont   34.2648  -118.5001  \n",
       "881510  Adult Arrest   34.0654  -118.2992  \n",
       "881511   Invest Cont   34.1385   -118.368  \n",
       "881512   Invest Cont   34.2010  -118.5623  \n",
       "881513   Invest Cont   34.0690  -118.3154  \n",
       "\n",
       "[881514 rows x 13 columns]"
      ]
     },
     "execution_count": 4,
     "metadata": {},
     "output_type": "execute_result"
    }
   ],
   "source": [
    "# Read data\n",
    "all_crime_data_df = pd.read_csv(\"../data/crime/2012_2016_CrimeRate.csv\")\n",
    "all_crime_data_df"
   ]
  },
  {
   "cell_type": "code",
   "execution_count": 5,
   "metadata": {},
   "outputs": [
    {
     "ename": "KeyboardInterrupt",
     "evalue": "",
     "output_type": "error",
     "traceback": [
      "\u001b[1;31m---------------------------------------------------------------------------\u001b[0m",
      "\u001b[1;31mKeyboardInterrupt\u001b[0m                         Traceback (most recent call last)",
      "\u001b[1;32m<ipython-input-5-9fb405aafd09>\u001b[0m in \u001b[0;36m<module>\u001b[1;34m\u001b[0m\n\u001b[0;32m      4\u001b[0m \u001b[1;33m\u001b[0m\u001b[0m\n\u001b[0;32m      5\u001b[0m \u001b[1;31m# Add occurence and reported year/month and day separetely\u001b[0m\u001b[1;33m\u001b[0m\u001b[1;33m\u001b[0m\u001b[1;33m\u001b[0m\u001b[0m\n\u001b[1;32m----> 6\u001b[1;33m \u001b[0mall_crime_data_df\u001b[0m\u001b[1;33m[\u001b[0m\u001b[1;34m\"DATE.OCC.year\"\u001b[0m\u001b[1;33m]\u001b[0m \u001b[1;33m=\u001b[0m \u001b[0mall_crime_data_df\u001b[0m\u001b[1;33m.\u001b[0m\u001b[0mapply\u001b[0m\u001b[1;33m(\u001b[0m\u001b[1;32mlambda\u001b[0m \u001b[0mrow\u001b[0m\u001b[1;33m:\u001b[0m \u001b[0mrow\u001b[0m\u001b[1;33m[\u001b[0m\u001b[1;34m\"DATE.OCC.datetime\"\u001b[0m\u001b[1;33m]\u001b[0m\u001b[1;33m.\u001b[0m\u001b[0myear\u001b[0m\u001b[1;33m,\u001b[0m \u001b[0maxis\u001b[0m\u001b[1;33m=\u001b[0m\u001b[1;36m1\u001b[0m\u001b[1;33m)\u001b[0m\u001b[1;33m\u001b[0m\u001b[1;33m\u001b[0m\u001b[0m\n\u001b[0m\u001b[0;32m      7\u001b[0m \u001b[0mall_crime_data_df\u001b[0m\u001b[1;33m[\u001b[0m\u001b[1;34m\"Date.Rptd.year\"\u001b[0m\u001b[1;33m]\u001b[0m \u001b[1;33m=\u001b[0m \u001b[0mall_crime_data_df\u001b[0m\u001b[1;33m.\u001b[0m\u001b[0mapply\u001b[0m\u001b[1;33m(\u001b[0m\u001b[1;32mlambda\u001b[0m \u001b[0mrow\u001b[0m\u001b[1;33m:\u001b[0m \u001b[0mrow\u001b[0m\u001b[1;33m[\u001b[0m\u001b[1;34m\"Date.Rptd.datetime\"\u001b[0m\u001b[1;33m]\u001b[0m\u001b[1;33m.\u001b[0m\u001b[0myear\u001b[0m\u001b[1;33m,\u001b[0m \u001b[0maxis\u001b[0m\u001b[1;33m=\u001b[0m\u001b[1;36m1\u001b[0m\u001b[1;33m)\u001b[0m\u001b[1;33m\u001b[0m\u001b[1;33m\u001b[0m\u001b[0m\n\u001b[0;32m      8\u001b[0m \u001b[1;33m\u001b[0m\u001b[0m\n",
      "\u001b[1;32m~\\miniconda3\\lib\\site-packages\\pandas\\core\\frame.py\u001b[0m in \u001b[0;36mapply\u001b[1;34m(self, func, axis, raw, result_type, args, **kwds)\u001b[0m\n\u001b[0;32m   7550\u001b[0m             \u001b[0mkwds\u001b[0m\u001b[1;33m=\u001b[0m\u001b[0mkwds\u001b[0m\u001b[1;33m,\u001b[0m\u001b[1;33m\u001b[0m\u001b[1;33m\u001b[0m\u001b[0m\n\u001b[0;32m   7551\u001b[0m         )\n\u001b[1;32m-> 7552\u001b[1;33m         \u001b[1;32mreturn\u001b[0m \u001b[0mop\u001b[0m\u001b[1;33m.\u001b[0m\u001b[0mget_result\u001b[0m\u001b[1;33m(\u001b[0m\u001b[1;33m)\u001b[0m\u001b[1;33m\u001b[0m\u001b[1;33m\u001b[0m\u001b[0m\n\u001b[0m\u001b[0;32m   7553\u001b[0m \u001b[1;33m\u001b[0m\u001b[0m\n\u001b[0;32m   7554\u001b[0m     \u001b[1;32mdef\u001b[0m \u001b[0mapplymap\u001b[0m\u001b[1;33m(\u001b[0m\u001b[0mself\u001b[0m\u001b[1;33m,\u001b[0m \u001b[0mfunc\u001b[0m\u001b[1;33m)\u001b[0m \u001b[1;33m->\u001b[0m \u001b[1;34m\"DataFrame\"\u001b[0m\u001b[1;33m:\u001b[0m\u001b[1;33m\u001b[0m\u001b[1;33m\u001b[0m\u001b[0m\n",
      "\u001b[1;32m~\\miniconda3\\lib\\site-packages\\pandas\\core\\apply.py\u001b[0m in \u001b[0;36mget_result\u001b[1;34m(self)\u001b[0m\n\u001b[0;32m    183\u001b[0m             \u001b[1;32mreturn\u001b[0m \u001b[0mself\u001b[0m\u001b[1;33m.\u001b[0m\u001b[0mapply_raw\u001b[0m\u001b[1;33m(\u001b[0m\u001b[1;33m)\u001b[0m\u001b[1;33m\u001b[0m\u001b[1;33m\u001b[0m\u001b[0m\n\u001b[0;32m    184\u001b[0m \u001b[1;33m\u001b[0m\u001b[0m\n\u001b[1;32m--> 185\u001b[1;33m         \u001b[1;32mreturn\u001b[0m \u001b[0mself\u001b[0m\u001b[1;33m.\u001b[0m\u001b[0mapply_standard\u001b[0m\u001b[1;33m(\u001b[0m\u001b[1;33m)\u001b[0m\u001b[1;33m\u001b[0m\u001b[1;33m\u001b[0m\u001b[0m\n\u001b[0m\u001b[0;32m    186\u001b[0m \u001b[1;33m\u001b[0m\u001b[0m\n\u001b[0;32m    187\u001b[0m     \u001b[1;32mdef\u001b[0m \u001b[0mapply_empty_result\u001b[0m\u001b[1;33m(\u001b[0m\u001b[0mself\u001b[0m\u001b[1;33m)\u001b[0m\u001b[1;33m:\u001b[0m\u001b[1;33m\u001b[0m\u001b[1;33m\u001b[0m\u001b[0m\n",
      "\u001b[1;32m~\\miniconda3\\lib\\site-packages\\pandas\\core\\apply.py\u001b[0m in \u001b[0;36mapply_standard\u001b[1;34m(self)\u001b[0m\n\u001b[0;32m    274\u001b[0m \u001b[1;33m\u001b[0m\u001b[0m\n\u001b[0;32m    275\u001b[0m     \u001b[1;32mdef\u001b[0m \u001b[0mapply_standard\u001b[0m\u001b[1;33m(\u001b[0m\u001b[0mself\u001b[0m\u001b[1;33m)\u001b[0m\u001b[1;33m:\u001b[0m\u001b[1;33m\u001b[0m\u001b[1;33m\u001b[0m\u001b[0m\n\u001b[1;32m--> 276\u001b[1;33m         \u001b[0mresults\u001b[0m\u001b[1;33m,\u001b[0m \u001b[0mres_index\u001b[0m \u001b[1;33m=\u001b[0m \u001b[0mself\u001b[0m\u001b[1;33m.\u001b[0m\u001b[0mapply_series_generator\u001b[0m\u001b[1;33m(\u001b[0m\u001b[1;33m)\u001b[0m\u001b[1;33m\u001b[0m\u001b[1;33m\u001b[0m\u001b[0m\n\u001b[0m\u001b[0;32m    277\u001b[0m \u001b[1;33m\u001b[0m\u001b[0m\n\u001b[0;32m    278\u001b[0m         \u001b[1;31m# wrap results\u001b[0m\u001b[1;33m\u001b[0m\u001b[1;33m\u001b[0m\u001b[1;33m\u001b[0m\u001b[0m\n",
      "\u001b[1;32m~\\miniconda3\\lib\\site-packages\\pandas\\core\\apply.py\u001b[0m in \u001b[0;36mapply_series_generator\u001b[1;34m(self)\u001b[0m\n\u001b[0;32m    301\u001b[0m         \u001b[1;32melse\u001b[0m\u001b[1;33m:\u001b[0m\u001b[1;33m\u001b[0m\u001b[1;33m\u001b[0m\u001b[0m\n\u001b[0;32m    302\u001b[0m             \u001b[1;32mwith\u001b[0m \u001b[0moption_context\u001b[0m\u001b[1;33m(\u001b[0m\u001b[1;34m\"mode.chained_assignment\"\u001b[0m\u001b[1;33m,\u001b[0m \u001b[1;32mNone\u001b[0m\u001b[1;33m)\u001b[0m\u001b[1;33m:\u001b[0m\u001b[1;33m\u001b[0m\u001b[1;33m\u001b[0m\u001b[0m\n\u001b[1;32m--> 303\u001b[1;33m                 \u001b[1;32mfor\u001b[0m \u001b[0mi\u001b[0m\u001b[1;33m,\u001b[0m \u001b[0mv\u001b[0m \u001b[1;32min\u001b[0m \u001b[0menumerate\u001b[0m\u001b[1;33m(\u001b[0m\u001b[0mseries_gen\u001b[0m\u001b[1;33m)\u001b[0m\u001b[1;33m:\u001b[0m\u001b[1;33m\u001b[0m\u001b[1;33m\u001b[0m\u001b[0m\n\u001b[0m\u001b[0;32m    304\u001b[0m                     \u001b[1;31m# ignore SettingWithCopy here in case the user mutates\u001b[0m\u001b[1;33m\u001b[0m\u001b[1;33m\u001b[0m\u001b[1;33m\u001b[0m\u001b[0m\n\u001b[0;32m    305\u001b[0m                     \u001b[0mresults\u001b[0m\u001b[1;33m[\u001b[0m\u001b[0mi\u001b[0m\u001b[1;33m]\u001b[0m \u001b[1;33m=\u001b[0m \u001b[0mself\u001b[0m\u001b[1;33m.\u001b[0m\u001b[0mf\u001b[0m\u001b[1;33m(\u001b[0m\u001b[0mv\u001b[0m\u001b[1;33m)\u001b[0m\u001b[1;33m\u001b[0m\u001b[1;33m\u001b[0m\u001b[0m\n",
      "\u001b[1;32m~\\miniconda3\\lib\\site-packages\\pandas\\core\\apply.py\u001b[0m in \u001b[0;36mseries_generator\u001b[1;34m(self)\u001b[0m\n\u001b[0;32m    404\u001b[0m     \u001b[1;33m@\u001b[0m\u001b[0mproperty\u001b[0m\u001b[1;33m\u001b[0m\u001b[1;33m\u001b[0m\u001b[0m\n\u001b[0;32m    405\u001b[0m     \u001b[1;32mdef\u001b[0m \u001b[0mseries_generator\u001b[0m\u001b[1;33m(\u001b[0m\u001b[0mself\u001b[0m\u001b[1;33m)\u001b[0m\u001b[1;33m:\u001b[0m\u001b[1;33m\u001b[0m\u001b[1;33m\u001b[0m\u001b[0m\n\u001b[1;32m--> 406\u001b[1;33m         \u001b[0mvalues\u001b[0m \u001b[1;33m=\u001b[0m \u001b[0mself\u001b[0m\u001b[1;33m.\u001b[0m\u001b[0mvalues\u001b[0m\u001b[1;33m\u001b[0m\u001b[1;33m\u001b[0m\u001b[0m\n\u001b[0m\u001b[0;32m    407\u001b[0m         \u001b[1;32massert\u001b[0m \u001b[0mlen\u001b[0m\u001b[1;33m(\u001b[0m\u001b[0mvalues\u001b[0m\u001b[1;33m)\u001b[0m \u001b[1;33m>\u001b[0m \u001b[1;36m0\u001b[0m\u001b[1;33m\u001b[0m\u001b[1;33m\u001b[0m\u001b[0m\n\u001b[0;32m    408\u001b[0m \u001b[1;33m\u001b[0m\u001b[0m\n",
      "\u001b[1;32mpandas\\_libs\\properties.pyx\u001b[0m in \u001b[0;36mpandas._libs.properties.CachedProperty.__get__\u001b[1;34m()\u001b[0m\n",
      "\u001b[1;32m~\\miniconda3\\lib\\site-packages\\pandas\\core\\apply.py\u001b[0m in \u001b[0;36mvalues\u001b[1;34m(self)\u001b[0m\n\u001b[0;32m    133\u001b[0m     \u001b[1;33m@\u001b[0m\u001b[0mcache_readonly\u001b[0m\u001b[1;33m\u001b[0m\u001b[1;33m\u001b[0m\u001b[0m\n\u001b[0;32m    134\u001b[0m     \u001b[1;32mdef\u001b[0m \u001b[0mvalues\u001b[0m\u001b[1;33m(\u001b[0m\u001b[0mself\u001b[0m\u001b[1;33m)\u001b[0m\u001b[1;33m:\u001b[0m\u001b[1;33m\u001b[0m\u001b[1;33m\u001b[0m\u001b[0m\n\u001b[1;32m--> 135\u001b[1;33m         \u001b[1;32mreturn\u001b[0m \u001b[0mself\u001b[0m\u001b[1;33m.\u001b[0m\u001b[0mobj\u001b[0m\u001b[1;33m.\u001b[0m\u001b[0mvalues\u001b[0m\u001b[1;33m\u001b[0m\u001b[1;33m\u001b[0m\u001b[0m\n\u001b[0m\u001b[0;32m    136\u001b[0m \u001b[1;33m\u001b[0m\u001b[0m\n\u001b[0;32m    137\u001b[0m     \u001b[1;33m@\u001b[0m\u001b[0mcache_readonly\u001b[0m\u001b[1;33m\u001b[0m\u001b[1;33m\u001b[0m\u001b[0m\n",
      "\u001b[1;32m~\\miniconda3\\lib\\site-packages\\pandas\\core\\generic.py\u001b[0m in \u001b[0;36mvalues\u001b[1;34m(self)\u001b[0m\n\u001b[0;32m   5343\u001b[0m         \"\"\"\n\u001b[0;32m   5344\u001b[0m         \u001b[0mself\u001b[0m\u001b[1;33m.\u001b[0m\u001b[0m_consolidate_inplace\u001b[0m\u001b[1;33m(\u001b[0m\u001b[1;33m)\u001b[0m\u001b[1;33m\u001b[0m\u001b[1;33m\u001b[0m\u001b[0m\n\u001b[1;32m-> 5345\u001b[1;33m         \u001b[1;32mreturn\u001b[0m \u001b[0mself\u001b[0m\u001b[1;33m.\u001b[0m\u001b[0m_mgr\u001b[0m\u001b[1;33m.\u001b[0m\u001b[0mas_array\u001b[0m\u001b[1;33m(\u001b[0m\u001b[0mtranspose\u001b[0m\u001b[1;33m=\u001b[0m\u001b[0mself\u001b[0m\u001b[1;33m.\u001b[0m\u001b[0m_AXIS_REVERSED\u001b[0m\u001b[1;33m)\u001b[0m\u001b[1;33m\u001b[0m\u001b[1;33m\u001b[0m\u001b[0m\n\u001b[0m\u001b[0;32m   5346\u001b[0m \u001b[1;33m\u001b[0m\u001b[0m\n\u001b[0;32m   5347\u001b[0m     \u001b[1;33m@\u001b[0m\u001b[0mproperty\u001b[0m\u001b[1;33m\u001b[0m\u001b[1;33m\u001b[0m\u001b[0m\n",
      "\u001b[1;32m~\\miniconda3\\lib\\site-packages\\pandas\\core\\internals\\managers.py\u001b[0m in \u001b[0;36mas_array\u001b[1;34m(self, transpose, dtype, copy, na_value)\u001b[0m\n\u001b[0;32m    860\u001b[0m                     \u001b[0marr\u001b[0m \u001b[1;33m=\u001b[0m \u001b[0marr\u001b[0m\u001b[1;33m.\u001b[0m\u001b[0mastype\u001b[0m\u001b[1;33m(\u001b[0m\u001b[0mdtype\u001b[0m\u001b[1;33m,\u001b[0m \u001b[0mcopy\u001b[0m\u001b[1;33m=\u001b[0m\u001b[1;32mFalse\u001b[0m\u001b[1;33m)\u001b[0m\u001b[1;33m\u001b[0m\u001b[1;33m\u001b[0m\u001b[0m\n\u001b[0;32m    861\u001b[0m         \u001b[1;32melse\u001b[0m\u001b[1;33m:\u001b[0m\u001b[1;33m\u001b[0m\u001b[1;33m\u001b[0m\u001b[0m\n\u001b[1;32m--> 862\u001b[1;33m             \u001b[0marr\u001b[0m \u001b[1;33m=\u001b[0m \u001b[0mself\u001b[0m\u001b[1;33m.\u001b[0m\u001b[0m_interleave\u001b[0m\u001b[1;33m(\u001b[0m\u001b[0mdtype\u001b[0m\u001b[1;33m=\u001b[0m\u001b[0mdtype\u001b[0m\u001b[1;33m,\u001b[0m \u001b[0mna_value\u001b[0m\u001b[1;33m=\u001b[0m\u001b[0mna_value\u001b[0m\u001b[1;33m)\u001b[0m\u001b[1;33m\u001b[0m\u001b[1;33m\u001b[0m\u001b[0m\n\u001b[0m\u001b[0;32m    863\u001b[0m             \u001b[1;31m# The underlying data was copied within _interleave\u001b[0m\u001b[1;33m\u001b[0m\u001b[1;33m\u001b[0m\u001b[1;33m\u001b[0m\u001b[0m\n\u001b[0;32m    864\u001b[0m             \u001b[0mcopy\u001b[0m \u001b[1;33m=\u001b[0m \u001b[1;32mFalse\u001b[0m\u001b[1;33m\u001b[0m\u001b[1;33m\u001b[0m\u001b[0m\n",
      "\u001b[1;32m~\\miniconda3\\lib\\site-packages\\pandas\\core\\internals\\managers.py\u001b[0m in \u001b[0;36m_interleave\u001b[1;34m(self, dtype, na_value)\u001b[0m\n\u001b[0;32m    899\u001b[0m                 \u001b[0marr\u001b[0m \u001b[1;33m=\u001b[0m \u001b[0mblk\u001b[0m\u001b[1;33m.\u001b[0m\u001b[0mvalues\u001b[0m\u001b[1;33m.\u001b[0m\u001b[0mto_numpy\u001b[0m\u001b[1;33m(\u001b[0m\u001b[0mdtype\u001b[0m\u001b[1;33m=\u001b[0m\u001b[0mdtype\u001b[0m\u001b[1;33m,\u001b[0m \u001b[0mna_value\u001b[0m\u001b[1;33m=\u001b[0m\u001b[0mna_value\u001b[0m\u001b[1;33m)\u001b[0m\u001b[1;33m\u001b[0m\u001b[1;33m\u001b[0m\u001b[0m\n\u001b[0;32m    900\u001b[0m             \u001b[1;32melse\u001b[0m\u001b[1;33m:\u001b[0m\u001b[1;33m\u001b[0m\u001b[1;33m\u001b[0m\u001b[0m\n\u001b[1;32m--> 901\u001b[1;33m                 \u001b[0marr\u001b[0m \u001b[1;33m=\u001b[0m \u001b[0mblk\u001b[0m\u001b[1;33m.\u001b[0m\u001b[0mget_values\u001b[0m\u001b[1;33m(\u001b[0m\u001b[0mdtype\u001b[0m\u001b[1;33m)\u001b[0m\u001b[1;33m\u001b[0m\u001b[1;33m\u001b[0m\u001b[0m\n\u001b[0m\u001b[0;32m    902\u001b[0m             \u001b[0mresult\u001b[0m\u001b[1;33m[\u001b[0m\u001b[0mrl\u001b[0m\u001b[1;33m.\u001b[0m\u001b[0mindexer\u001b[0m\u001b[1;33m]\u001b[0m \u001b[1;33m=\u001b[0m \u001b[0marr\u001b[0m\u001b[1;33m\u001b[0m\u001b[1;33m\u001b[0m\u001b[0m\n\u001b[0;32m    903\u001b[0m             \u001b[0mitemmask\u001b[0m\u001b[1;33m[\u001b[0m\u001b[0mrl\u001b[0m\u001b[1;33m.\u001b[0m\u001b[0mindexer\u001b[0m\u001b[1;33m]\u001b[0m \u001b[1;33m=\u001b[0m \u001b[1;36m1\u001b[0m\u001b[1;33m\u001b[0m\u001b[1;33m\u001b[0m\u001b[0m\n",
      "\u001b[1;32m~\\miniconda3\\lib\\site-packages\\pandas\\core\\internals\\blocks.py\u001b[0m in \u001b[0;36mget_values\u001b[1;34m(self, dtype)\u001b[0m\n\u001b[0;32m   2020\u001b[0m         \u001b[1;32mif\u001b[0m \u001b[0mis_object_dtype\u001b[0m\u001b[1;33m(\u001b[0m\u001b[0mdtype\u001b[0m\u001b[1;33m)\u001b[0m\u001b[1;33m:\u001b[0m\u001b[1;33m\u001b[0m\u001b[1;33m\u001b[0m\u001b[0m\n\u001b[0;32m   2021\u001b[0m             \u001b[1;31m# DTA/TDA constructor and astype can handle 2D\u001b[0m\u001b[1;33m\u001b[0m\u001b[1;33m\u001b[0m\u001b[1;33m\u001b[0m\u001b[0m\n\u001b[1;32m-> 2022\u001b[1;33m             \u001b[1;32mreturn\u001b[0m \u001b[0mself\u001b[0m\u001b[1;33m.\u001b[0m\u001b[0m_holder\u001b[0m\u001b[1;33m(\u001b[0m\u001b[0mself\u001b[0m\u001b[1;33m.\u001b[0m\u001b[0mvalues\u001b[0m\u001b[1;33m)\u001b[0m\u001b[1;33m.\u001b[0m\u001b[0mastype\u001b[0m\u001b[1;33m(\u001b[0m\u001b[0mobject\u001b[0m\u001b[1;33m)\u001b[0m\u001b[1;33m\u001b[0m\u001b[1;33m\u001b[0m\u001b[0m\n\u001b[0m\u001b[0;32m   2023\u001b[0m         \u001b[1;32mreturn\u001b[0m \u001b[0mself\u001b[0m\u001b[1;33m.\u001b[0m\u001b[0mvalues\u001b[0m\u001b[1;33m\u001b[0m\u001b[1;33m\u001b[0m\u001b[0m\n\u001b[0;32m   2024\u001b[0m \u001b[1;33m\u001b[0m\u001b[0m\n",
      "\u001b[1;32m~\\miniconda3\\lib\\site-packages\\pandas\\core\\arrays\\datetimes.py\u001b[0m in \u001b[0;36mastype\u001b[1;34m(self, dtype, copy)\u001b[0m\n\u001b[0;32m    598\u001b[0m         \u001b[1;32melif\u001b[0m \u001b[0mis_period_dtype\u001b[0m\u001b[1;33m(\u001b[0m\u001b[0mdtype\u001b[0m\u001b[1;33m)\u001b[0m\u001b[1;33m:\u001b[0m\u001b[1;33m\u001b[0m\u001b[1;33m\u001b[0m\u001b[0m\n\u001b[0;32m    599\u001b[0m             \u001b[1;32mreturn\u001b[0m \u001b[0mself\u001b[0m\u001b[1;33m.\u001b[0m\u001b[0mto_period\u001b[0m\u001b[1;33m(\u001b[0m\u001b[0mfreq\u001b[0m\u001b[1;33m=\u001b[0m\u001b[0mdtype\u001b[0m\u001b[1;33m.\u001b[0m\u001b[0mfreq\u001b[0m\u001b[1;33m)\u001b[0m\u001b[1;33m\u001b[0m\u001b[1;33m\u001b[0m\u001b[0m\n\u001b[1;32m--> 600\u001b[1;33m         \u001b[1;32mreturn\u001b[0m \u001b[0mdtl\u001b[0m\u001b[1;33m.\u001b[0m\u001b[0mDatetimeLikeArrayMixin\u001b[0m\u001b[1;33m.\u001b[0m\u001b[0mastype\u001b[0m\u001b[1;33m(\u001b[0m\u001b[0mself\u001b[0m\u001b[1;33m,\u001b[0m \u001b[0mdtype\u001b[0m\u001b[1;33m,\u001b[0m \u001b[0mcopy\u001b[0m\u001b[1;33m)\u001b[0m\u001b[1;33m\u001b[0m\u001b[1;33m\u001b[0m\u001b[0m\n\u001b[0m\u001b[0;32m    601\u001b[0m \u001b[1;33m\u001b[0m\u001b[0m\n\u001b[0;32m    602\u001b[0m     \u001b[1;31m# -----------------------------------------------------------------\u001b[0m\u001b[1;33m\u001b[0m\u001b[1;33m\u001b[0m\u001b[1;33m\u001b[0m\u001b[0m\n",
      "\u001b[1;32m~\\miniconda3\\lib\\site-packages\\pandas\\core\\arrays\\datetimelike.py\u001b[0m in \u001b[0;36mastype\u001b[1;34m(self, dtype, copy)\u001b[0m\n\u001b[0;32m    628\u001b[0m \u001b[1;33m\u001b[0m\u001b[0m\n\u001b[0;32m    629\u001b[0m         \u001b[1;32mif\u001b[0m \u001b[0mis_object_dtype\u001b[0m\u001b[1;33m(\u001b[0m\u001b[0mdtype\u001b[0m\u001b[1;33m)\u001b[0m\u001b[1;33m:\u001b[0m\u001b[1;33m\u001b[0m\u001b[1;33m\u001b[0m\u001b[0m\n\u001b[1;32m--> 630\u001b[1;33m             \u001b[1;32mreturn\u001b[0m \u001b[0mself\u001b[0m\u001b[1;33m.\u001b[0m\u001b[0m_box_values\u001b[0m\u001b[1;33m(\u001b[0m\u001b[0mself\u001b[0m\u001b[1;33m.\u001b[0m\u001b[0masi8\u001b[0m\u001b[1;33m.\u001b[0m\u001b[0mravel\u001b[0m\u001b[1;33m(\u001b[0m\u001b[1;33m)\u001b[0m\u001b[1;33m)\u001b[0m\u001b[1;33m.\u001b[0m\u001b[0mreshape\u001b[0m\u001b[1;33m(\u001b[0m\u001b[0mself\u001b[0m\u001b[1;33m.\u001b[0m\u001b[0mshape\u001b[0m\u001b[1;33m)\u001b[0m\u001b[1;33m\u001b[0m\u001b[1;33m\u001b[0m\u001b[0m\n\u001b[0m\u001b[0;32m    631\u001b[0m         \u001b[1;32melif\u001b[0m \u001b[0mis_string_dtype\u001b[0m\u001b[1;33m(\u001b[0m\u001b[0mdtype\u001b[0m\u001b[1;33m)\u001b[0m \u001b[1;32mand\u001b[0m \u001b[1;32mnot\u001b[0m \u001b[0mis_categorical_dtype\u001b[0m\u001b[1;33m(\u001b[0m\u001b[0mdtype\u001b[0m\u001b[1;33m)\u001b[0m\u001b[1;33m:\u001b[0m\u001b[1;33m\u001b[0m\u001b[1;33m\u001b[0m\u001b[0m\n\u001b[0;32m    632\u001b[0m             \u001b[1;32mif\u001b[0m \u001b[0mis_extension_array_dtype\u001b[0m\u001b[1;33m(\u001b[0m\u001b[0mdtype\u001b[0m\u001b[1;33m)\u001b[0m\u001b[1;33m:\u001b[0m\u001b[1;33m\u001b[0m\u001b[1;33m\u001b[0m\u001b[0m\n",
      "\u001b[1;32m~\\miniconda3\\lib\\site-packages\\pandas\\core\\arrays\\datetimelike.py\u001b[0m in \u001b[0;36m_box_values\u001b[1;34m(self, values)\u001b[0m\n\u001b[0;32m    484\u001b[0m         \u001b[0mapply\u001b[0m \u001b[0mbox\u001b[0m \u001b[0mfunc\u001b[0m \u001b[0mto\u001b[0m \u001b[0mpassed\u001b[0m \u001b[0mvalues\u001b[0m\u001b[1;33m\u001b[0m\u001b[1;33m\u001b[0m\u001b[0m\n\u001b[0;32m    485\u001b[0m         \"\"\"\n\u001b[1;32m--> 486\u001b[1;33m         \u001b[1;32mreturn\u001b[0m \u001b[0mlib\u001b[0m\u001b[1;33m.\u001b[0m\u001b[0mmap_infer\u001b[0m\u001b[1;33m(\u001b[0m\u001b[0mvalues\u001b[0m\u001b[1;33m,\u001b[0m \u001b[0mself\u001b[0m\u001b[1;33m.\u001b[0m\u001b[0m_box_func\u001b[0m\u001b[1;33m)\u001b[0m\u001b[1;33m\u001b[0m\u001b[1;33m\u001b[0m\u001b[0m\n\u001b[0m\u001b[0;32m    487\u001b[0m \u001b[1;33m\u001b[0m\u001b[0m\n\u001b[0;32m    488\u001b[0m     \u001b[1;32mdef\u001b[0m \u001b[0m__iter__\u001b[0m\u001b[1;33m(\u001b[0m\u001b[0mself\u001b[0m\u001b[1;33m)\u001b[0m\u001b[1;33m:\u001b[0m\u001b[1;33m\u001b[0m\u001b[1;33m\u001b[0m\u001b[0m\n",
      "\u001b[1;32mpandas\\_libs\\lib.pyx\u001b[0m in \u001b[0;36mpandas._libs.lib.map_infer\u001b[1;34m()\u001b[0m\n",
      "\u001b[1;32m~\\miniconda3\\lib\\site-packages\\pandas\\core\\arrays\\datetimes.py\u001b[0m in \u001b[0;36m<lambda>\u001b[1;34m(x)\u001b[0m\n\u001b[0;32m    475\u001b[0m     \u001b[1;33m@\u001b[0m\u001b[0mproperty\u001b[0m\u001b[1;33m\u001b[0m\u001b[1;33m\u001b[0m\u001b[0m\n\u001b[0;32m    476\u001b[0m     \u001b[1;32mdef\u001b[0m \u001b[0m_box_func\u001b[0m\u001b[1;33m(\u001b[0m\u001b[0mself\u001b[0m\u001b[1;33m)\u001b[0m\u001b[1;33m:\u001b[0m\u001b[1;33m\u001b[0m\u001b[1;33m\u001b[0m\u001b[0m\n\u001b[1;32m--> 477\u001b[1;33m         \u001b[1;32mreturn\u001b[0m \u001b[1;32mlambda\u001b[0m \u001b[0mx\u001b[0m\u001b[1;33m:\u001b[0m \u001b[0mTimestamp\u001b[0m\u001b[1;33m(\u001b[0m\u001b[0mx\u001b[0m\u001b[1;33m,\u001b[0m \u001b[0mfreq\u001b[0m\u001b[1;33m=\u001b[0m\u001b[0mself\u001b[0m\u001b[1;33m.\u001b[0m\u001b[0mfreq\u001b[0m\u001b[1;33m,\u001b[0m \u001b[0mtz\u001b[0m\u001b[1;33m=\u001b[0m\u001b[0mself\u001b[0m\u001b[1;33m.\u001b[0m\u001b[0mtz\u001b[0m\u001b[1;33m)\u001b[0m\u001b[1;33m\u001b[0m\u001b[1;33m\u001b[0m\u001b[0m\n\u001b[0m\u001b[0;32m    478\u001b[0m \u001b[1;33m\u001b[0m\u001b[0m\n\u001b[0;32m    479\u001b[0m     \u001b[1;33m@\u001b[0m\u001b[0mproperty\u001b[0m\u001b[1;33m\u001b[0m\u001b[1;33m\u001b[0m\u001b[0m\n",
      "\u001b[1;31mKeyboardInterrupt\u001b[0m: "
     ]
    }
   ],
   "source": [
    "# Add Datetime column for occurence and reported\n",
    "all_crime_data_df[\"DATE.OCC.datetime\"] = pd.to_datetime(all_crime_data_df[\"DATE.OCC\"])\n",
    "all_crime_data_df[\"Date.Rptd.datetime\"] = pd.to_datetime(all_crime_data_df[\"Date.Rptd\"])\n",
    "\n",
    "# Add occurence and reported year/month and day separetely\n",
    "all_crime_data_df[\"DATE.OCC.year\"] = all_crime_data_df.apply(lambda row: row[\"DATE.OCC.datetime\"].year, axis=1)\n",
    "all_crime_data_df[\"Date.Rptd.year\"] = all_crime_data_df.apply(lambda row: row[\"Date.Rptd.datetime\"].year, axis=1)\n",
    "\n",
    "all_crime_data_df[\"DATE.OCC.month\"] = all_crime_data_df.apply(lambda row: row[\"DATE.OCC.datetime\"].month, axis=1)\n",
    "all_crime_data_df[\"Date.Rptd.month\"] = all_crime_data_df.apply(lambda row: row[\"Date.Rptd.datetime\"].month, axis=1)\n",
    "\n",
    "all_crime_data_df[\"DATE.OCC.day\"] = all_crime_data_df.apply(lambda row: row[\"DATE.OCC.datetime\"].day, axis=1)\n",
    "all_crime_data_df[\"Date.Rptd.day\"] = all_crime_data_df.apply(lambda row: row[\"Date.Rptd.datetime\"].day, axis=1)\n",
    "\n",
    "# Collect the values that are reported.year > occurence.year\n",
    "# all_crime_data_df[\"Late.By.Year\"] = all_crime_data_df.apply(lambda row: row[\"Date.Rptd.datetime\"].year > row[\"DATE.OCC.datetime\"].year, axis=1)\n"
   ]
  },
  {
   "cell_type": "code",
   "execution_count": null,
   "metadata": {},
   "outputs": [],
   "source": [
    "late_by_year_count = (all_crime_data_df[\"Date.Rptd.year\"] > all_crime_data_df[\"DATE.OCC.year\"]).sum()\n",
    "unique_rptd_years = all_crime_data_df[\"Date.Rptd.year\"].unique()\n",
    "unique_occ_years = all_crime_data_df[\"DATE.OCC.year\"].unique()\n",
    "\n",
    "print(unique_rptd_years)\n",
    "print(unique_occ_years)"
   ]
  },
  {
   "cell_type": "code",
   "execution_count": null,
   "metadata": {},
   "outputs": [],
   "source": [
    "(all_crime_data_df[\"Date.Rptd.datetime\"] - all_crime_data_df[\"DATE.OCC.datetime\"])"
   ]
  },
  {
   "cell_type": "code",
   "execution_count": null,
   "metadata": {},
   "outputs": [],
   "source": [
    "all_crime_data_df[\"Late.By.Year\"] = all_crime_data_df[\"Date.Rptd.year\"] > all_crime_data_df[\"DATE.OCC.year\"]\n",
    "all_crime_data_df[\"Late.By.Datetime\"] = all_crime_data_df[\"Date.Rptd.datetime\"] - all_crime_data_df[\"DATE.OCC.datetime\"]\n",
    "all_crime_data_df[]"
   ]
  },
  {
   "cell_type": "code",
   "execution_count": null,
   "metadata": {},
   "outputs": [],
   "source": [
    "#data_util########\n",
    "\n",
    "    # put into a list to make a new column for grouping.\n",
    "    year_occurred = []\n",
    "    month_occurred = []\n",
    "    day_occurred = []\n",
    "\n",
    "    for crime in clean_crime_data_df['Date Occurred']:\n",
    "        year = crime.year\n",
    "        month = crime.month\n",
    "        day = crime.day\n",
    "        \n",
    "        year_occurred.append(year)\n",
    "        month_occurred.append(month)\n",
    "        day_occurred.append(day)\n",
    "        \n",
    "    clean_crime_data_df['Year of Crime'] = year_occurred\n",
    "    clean_crime_data_df['Month of Crime'] = month_occurred\n",
    "    clean_crime_data_df['Day of Crime'] = day_occurred\n"
   ]
  },
  {
   "cell_type": "code",
   "execution_count": 1,
   "metadata": {},
   "outputs": [
    {
     "ename": "NameError",
     "evalue": "name 'du' is not defined",
     "output_type": "error",
     "traceback": [
      "\u001b[1;31m---------------------------------------------------------------------------\u001b[0m",
      "\u001b[1;31mNameError\u001b[0m                                 Traceback (most recent call last)",
      "\u001b[1;32m<ipython-input-1-b9ed8c3538ed>\u001b[0m in \u001b[0;36m<module>\u001b[1;34m\u001b[0m\n\u001b[0;32m      2\u001b[0m \u001b[1;32mimport\u001b[0m \u001b[0mdatetime\u001b[0m\u001b[1;33m\u001b[0m\u001b[1;33m\u001b[0m\u001b[0m\n\u001b[0;32m      3\u001b[0m \u001b[1;33m\u001b[0m\u001b[0m\n\u001b[1;32m----> 4\u001b[1;33m \u001b[0munique_crime_desc\u001b[0m \u001b[1;33m=\u001b[0m \u001b[0mdu\u001b[0m\u001b[1;33m.\u001b[0m\u001b[0mclean_crime_data_df\u001b[0m\u001b[1;33m[\u001b[0m\u001b[1;34m\"Crime Description\"\u001b[0m\u001b[1;33m]\u001b[0m\u001b[1;33m.\u001b[0m\u001b[0munique\u001b[0m\u001b[1;33m(\u001b[0m\u001b[1;33m)\u001b[0m\u001b[1;33m\u001b[0m\u001b[1;33m\u001b[0m\u001b[0m\n\u001b[0m\u001b[0;32m      5\u001b[0m \u001b[0mbarWidth\u001b[0m \u001b[1;33m=\u001b[0m \u001b[1;36m0.35\u001b[0m\u001b[1;33m\u001b[0m\u001b[1;33m\u001b[0m\u001b[0m\n\u001b[0;32m      6\u001b[0m \u001b[1;33m\u001b[0m\u001b[0m\n",
      "\u001b[1;31mNameError\u001b[0m: name 'du' is not defined"
     ]
    }
   ],
   "source": [
    "import holidays\n",
    "import datetime\n",
    "\n",
    "unique_crime_desc = du.clean_crime_data_df[\"Crime Description\"].unique()\n",
    "barWidth = 0.35\n",
    "\n",
    "r1 = np.arange(len(unique_years))\n",
    "r2 = [x + barWidth for x in r1]\n",
    "\n",
    "# Plotting both bars using the set x-axes and y-axes to make a mutli-bar plot to see\n",
    "# potential correlation between crimes and homelessness.\n",
    "\n",
    "fig, axes2d = plt.subplots(2,2, figsize=(6,6))\n",
    "axes = axes2d.flatten()\n",
    "\n",
    "for cix in range(len(unique_crime_desc)):\n",
    "    crime_desc = unique_crime_desc[cix]\n",
    "    unique_years = du.clean_crime_data_df[\"Year of Crime\"].unique()\n",
    "    # Calculate the number of crimes per each year that happened in holidays\n",
    "    holi_per_year = np.zeros_like(unique_years)\n",
    "    nonholi_per_year = np.zeros_like(unique_years)\n",
    "    days_per_year = np.zeros_like(unique_years)\n",
    "    crimes_on_holi_per_year = np.zeros_like(unique_years)\n",
    "    crimes_on_nonholi_per_year = np.zeros_like(unique_years)\n",
    "    \n",
    "\n",
    "    for yix in range(len(unique_years)):\n",
    "        year = unique_years[yix]\n",
    "        holi_per_year[yix] = len(holidays.US(years=[year], state=\"CA\"))\n",
    "        days_per_year[yix] = (datetime.date(year+1,1,1) - datetime.date(year,1,1)).days\n",
    "        nonholi_per_year[yix] = days_per_year[yix] - holi_per_year[yix]\n",
    "\n",
    "        # Choose the df that contains the years\n",
    "        filter_year = np.bitwise_and(du.clean_crime_data_df[\"Year of Crime\"] == year, \n",
    "                                     du.clean_crime_data_df[\"Crime Description\"] == crime_desc)\n",
    "\n",
    "        # Calculate crimes per holiday on each year\n",
    "        crimes_on_holi_per_year[yix] = du.clean_crime_data_df[filter_year][\"Holiday\"].sum()/holi_per_year[yix]\n",
    "        crimes_on_nonholi_per_year[yix] = (du.clean_crime_data_df[filter_year][\"Holiday\"] == False).sum()/nonholi_per_year[yix]\n",
    "        \n",
    "    ax = axes[cix]\n",
    "    ax.bar(r1, crimes_on_nonholi_per_year, color = 'blue', alpha = 0.75, width = barWidth, edgecolor = 'white', label = 'non-holidays')\n",
    "    ax.bar(r2, crimes_on_holi_per_year, color = 'red', alpha = 0.75, width = barWidth, edgecolor = 'white', label = 'holidays')\n",
    "\n",
    "    # Created a title, legend and axes labels for multi-bar plot.  Labeled the x tickmarks as the years and\n",
    "    # set their location in between the two bars for each year.\n",
    "\n",
    "#     ax.set_title(f'{crime_desc}')\n",
    "    ax.set_xlabel('Year')\n",
    "    ax.set_ylabel(f'{crime_desc} per day')\n",
    "    ax.set_xticks([r + (barWidth/2) for r in range(len(unique_years))])\n",
    "    ax.set_xticklabels(unique_years)\n",
    "    ax.legend(loc='upper right', title='Count Type', frameon = False)"
   ]
  },
  {
   "cell_type": "code",
   "execution_count": null,
   "metadata": {},
   "outputs": [],
   "source": [
    "# Count late_by_year for each year\n",
    "late_by_year_per_year = np.zeros_like(unique_occ_years)\n",
    "for yix in range(len(unique_occ_years)):\n",
    "    year = unique_occ_years[yix]\n",
    "    mask_for_year = all_crime_data_df[\"DATE.OCC.year\"] == year\n",
    "    late_by_year_per_year[yix] = all_crime_data_df[mask_for_year][\"Late.By.Year\"].sum()\n",
    "    "
   ]
  },
  {
   "cell_type": "code",
   "execution_count": null,
   "metadata": {},
   "outputs": [],
   "source": [
    "late_by_year_per_year"
   ]
  },
  {
   "cell_type": "code",
   "execution_count": null,
   "metadata": {},
   "outputs": [],
   "source": [
    "all_crime_data_df[\"Late.By.Year\"].sum()/len(all_crime_data_df)\n",
    "unique_years = all_crime_data_df[\"Date.Rptd.datetime\"].apply(lambda row: row.year).unique()"
   ]
  },
  {
   "cell_type": "code",
   "execution_count": null,
   "metadata": {},
   "outputs": [],
   "source": [
    "late_by_year_count = np.zeros_like(unique_years, dtype=np.int)\n",
    "for yix in range(len(unique_years)):\n",
    "    year = unique_years[yix]\n",
    "    print(f\"At year = {year}\")\n",
    "    late_by_year_count[yix] = all_crime_data_df.apply(lambda row: row[\"DATE.OCC.datetime\"].year == year, axis=1).sum()"
   ]
  },
  {
   "cell_type": "code",
   "execution_count": null,
   "metadata": {},
   "outputs": [],
   "source": [
    "late_by_year_count"
   ]
  },
  {
   "cell_type": "markdown",
   "metadata": {},
   "source": [
    "## Location-based analysis"
   ]
  },
  {
   "cell_type": "code",
   "execution_count": null,
   "metadata": {},
   "outputs": [],
   "source": [
    "# Crime description per location\n",
    "unique_area_names = all_crime_data_df[\"AREA.NAME\"].unique()\n",
    "unique_years = all_crime_data_df[\"DATE.OCC.year\"].unique()\n",
    "unique_months = all_crime_data_df[\"DATE.OCC.month\"].unique()"
   ]
  },
  {
   "cell_type": "code",
   "execution_count": null,
   "metadata": {},
   "outputs": [],
   "source": [
    "area_year_counts = np.zeros((len(unique_area_names), len(unique_years)))\n",
    "for yix in range(len(unique_years)):\n",
    "    year = unique_years[yix]\n",
    "    print(f\"Year = {year}\")\n",
    "    for arix in range(len(unique_area_names)):\n",
    "        area = unique_area_names[arix]\n",
    "        area_year_counts[arix, yix] = np.bitwise_and(all_crime_data_df[\"AREA.NAME\"] == area, \n",
    "                                                 all_crime_data_df[\"DATE.OCC.year\"] == year).sum()\n",
    "        \n",
    "area_months_counts = np.zeros((len(unique_area_names), len(unique_months)))\n",
    "for mix in range(len(unique_months)):\n",
    "    month = unique_months[mix]\n",
    "    print(f\"Month = {month}\")\n",
    "    for arix in range(len(unique_area_names)):\n",
    "        area = unique_area_names[arix]\n",
    "        area_months_counts[arix, mix] = np.bitwise_and(all_crime_data_df[\"AREA.NAME\"] == area, \n",
    "                                                 all_crime_data_df[\"DATE.OCC.month\"] == month).sum()\n",
    "\n",
    "\n"
   ]
  },
  {
   "cell_type": "code",
   "execution_count": null,
   "metadata": {},
   "outputs": [],
   "source": [
    "fig, axes2d = plt.subplots(5,5)\n",
    "axes = axes2d.flatten()\n",
    "\n",
    "for arix in range(len(unique_area_names)):\n",
    "    axes[arix].bar(unique_months, area_months_counts[arix, :])\n",
    "    "
   ]
  },
  {
   "cell_type": "code",
   "execution_count": null,
   "metadata": {},
   "outputs": [],
   "source": [
    "fig, ax = plt.subplots(1,1)\n",
    "ax.bar(unique_months, area_months_counts[0,:])\n",
    "ax.set_xlim(0,13)\n",
    "ax.set_ylim(0,3200)\n",
    "ax.set_xlabel(\"Month of the year\")\n",
    "ax.set_ylabel(\"Number of reported crimes\")"
   ]
  },
  {
   "cell_type": "code",
   "execution_count": null,
   "metadata": {},
   "outputs": [],
   "source": [
    "fig, axes = plt.subplots(len(unique_years), 1)\n",
    "for yix in range(len(unique_years)):\n",
    "    year = unique_years[yix]\n",
    "    axes[yix].bar(unique_area_names, area_year_counts[:,yix])\n",
    "    \n",
    "_ = axes[-1].set_xticklabels(unique_area_names, rotation=90)"
   ]
  },
  {
   "cell_type": "code",
   "execution_count": null,
   "metadata": {},
   "outputs": [],
   "source": [
    "OD = 0.2\n",
    "V0 = 1.8 # 60s at max\n",
    "OD0 = 0.007\n",
    "V1 = 1\n",
    "OD1 = 0.006\n",
    "Vf = 0.2"
   ]
  },
  {
   "cell_type": "code",
   "execution_count": null,
   "metadata": {
    "scrolled": true
   },
   "outputs": [],
   "source": [
    "(OD*V0 - OD0*V0 - OD1*V1)"
   ]
  },
  {
   "cell_type": "code",
   "execution_count": null,
   "metadata": {},
   "outputs": [],
   "source": [
    "fig, ax = plt.subplots(1,1)\n",
    "all_crime_data_df.groupby(\"DATE.OCC.day\").count()[\"Date.Rptd\"].plot(kind=\"bar\", ax=ax)"
   ]
  },
  {
   "cell_type": "code",
   "execution_count": null,
   "metadata": {},
   "outputs": [],
   "source": [
    "# Configure gmaps\n",
    "gmaps.configure(api_key=g_key)"
   ]
  },
  {
   "cell_type": "code",
   "execution_count": null,
   "metadata": {},
   "outputs": [],
   "source": [
    "all_crime_data_df.groupby(\"CrmCd.Desc\").count()"
   ]
  },
  {
   "cell_type": "code",
   "execution_count": null,
   "metadata": {},
   "outputs": [],
   "source": [
    "# Get unique area names\n",
    "unique_area_names = crime_data_df[\"AREA.NAME\"].unique()\n",
    "\n",
    "# Get unique crime description\n",
    "unique_crime_desc = crime_data_df[\"CrmCd.Desc\"].unique()"
   ]
  },
  {
   "cell_type": "code",
   "execution_count": null,
   "metadata": {},
   "outputs": [],
   "source": [
    "# Collect by Area Code\n",
    "area_names_group = crime_data_df.groupby(\"AREA.NAME\")\n",
    "area_location_group = crime_data_df.groupby(\"AREA.NAME\")\n",
    "\n",
    "# Total number of crimes in each area\n",
    "counts_per_area = area_names_group[\"AREA\"].count()\n",
    "locations_per_area = area_names_group[\"Latitude\"]\n",
    "\n",
    "counts_per_area.plot(kind=\"bar\")"
   ]
  },
  {
   "cell_type": "code",
   "execution_count": null,
   "metadata": {},
   "outputs": [],
   "source": [
    "# Get area info\n",
    "\n",
    "a = np.zeros((len(unique_area_codes),4))\n",
    "split_by_area = []\n",
    "for arix in range(len(unique_area_codes)):\n",
    "    split_by_area.append(crime_data_df[crime_data_df[\"AREA\"] == unique_area_codes[arix]])\n",
    "    a[arix,:] = split_by_area[arix][\"CrmCd.Desc\"].value_counts(normalize=True)\n",
    "    \n",
    "split_by_area[0][\"CrmCd.Desc\"].value_counts(normalize=True)\n",
    "\n",
    "crime_area_types = crime_data_df.groupby([\"CrmCd.Desc\",\"AREA.NAME\"])[\"Status\"].count().unstack(\"AREA.NAME\")\n",
    "# crime_area_types.plot(kind=\"bar\")\n",
    "crime_area_types"
   ]
  },
  {
   "cell_type": "code",
   "execution_count": null,
   "metadata": {},
   "outputs": [],
   "source": [
    "fig,axes = plt.subplots(4,1)\n",
    "for ix in range(4):\n",
    "    axes[ix].bar(unique_area_names, a[:,ix])\n",
    "    axes[ix].set_xticklabels(unique_area_names, rotation=90)\n",
    "    axes[ix].set_title(unique_area_names[ix])"
   ]
  },
  {
   "cell_type": "code",
   "execution_count": null,
   "metadata": {},
   "outputs": [],
   "source": [
    "m = gmaps.Map()\n",
    "# Clear nan Lat and Long\n",
    "# all_crime_data_df.dropna(0, inplace=True)\n",
    "m.add_layer(gmaps.heatmap_layer(locations=all_crime_data_df[[\"Latitude\",\"Longitude\"]], max_intensity=20))\n",
    "m"
   ]
  },
  {
   "cell_type": "code",
   "execution_count": null,
   "metadata": {},
   "outputs": [],
   "source": []
  }
 ],
 "metadata": {
  "kernelspec": {
   "display_name": "Python 3",
   "language": "python",
   "name": "python3"
  },
  "language_info": {
   "codemirror_mode": {
    "name": "ipython",
    "version": 3
   },
   "file_extension": ".py",
   "mimetype": "text/x-python",
   "name": "python",
   "nbconvert_exporter": "python",
   "pygments_lexer": "ipython3",
   "version": "3.8.5"
  }
 },
 "nbformat": 4,
 "nbformat_minor": 4
}
